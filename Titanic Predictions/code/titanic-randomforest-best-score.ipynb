{
 "cells": [
  {
   "cell_type": "code",
   "execution_count": 1,
   "id": "3366723d",
   "metadata": {
    "_cell_guid": "b1076dfc-b9ad-4769-8c92-a6c4dae69d19",
    "_uuid": "8f2839f25d086af736a60e9eeb907d3b93b6e0e5",
    "execution": {
     "iopub.execute_input": "2025-05-24T17:31:50.605214Z",
     "iopub.status.busy": "2025-05-24T17:31:50.604839Z",
     "iopub.status.idle": "2025-05-24T17:31:52.533766Z",
     "shell.execute_reply": "2025-05-24T17:31:52.532762Z"
    },
    "papermill": {
     "duration": 1.938247,
     "end_time": "2025-05-24T17:31:52.535466",
     "exception": false,
     "start_time": "2025-05-24T17:31:50.597219",
     "status": "completed"
    },
    "tags": []
   },
   "outputs": [
    {
     "name": "stdout",
     "output_type": "stream",
     "text": [
      "/kaggle/input/titanic/train.csv\n",
      "/kaggle/input/titanic/test.csv\n",
      "/kaggle/input/titanic/gender_submission.csv\n"
     ]
    }
   ],
   "source": [
    "# This Python 3 environment comes with many helpful analytics libraries installed\n",
    "# It is defined by the kaggle/python Docker image: https://github.com/kaggle/docker-python\n",
    "# For example, here's several helpful packages to load\n",
    "\n",
    "import numpy as np # linear algebra\n",
    "import pandas as pd # data processing, CSV file I/O (e.g. pd.read_csv)\n",
    "\n",
    "# Input data files are available in the read-only \"../input/\" directory\n",
    "# For example, running this (by clicking run or pressing Shift+Enter) will list all files under the input directory\n",
    "\n",
    "import os\n",
    "for dirname, _, filenames in os.walk('/kaggle/input'):\n",
    "    for filename in filenames:\n",
    "        print(os.path.join(dirname, filename))\n",
    "\n",
    "# You can write up to 20GB to the current directory (/kaggle/working/) that gets preserved as output when you create a version using \"Save & Run All\" \n",
    "# You can also write temporary files to /kaggle/temp/, but they won't be saved outside of the current session"
   ]
  },
  {
   "cell_type": "code",
   "execution_count": 2,
   "id": "8045d111",
   "metadata": {
    "execution": {
     "iopub.execute_input": "2025-05-24T17:31:52.547492Z",
     "iopub.status.busy": "2025-05-24T17:31:52.546605Z",
     "iopub.status.idle": "2025-05-24T17:31:55.312311Z",
     "shell.execute_reply": "2025-05-24T17:31:55.311438Z"
    },
    "papermill": {
     "duration": 2.773332,
     "end_time": "2025-05-24T17:31:55.314014",
     "exception": false,
     "start_time": "2025-05-24T17:31:52.540682",
     "status": "completed"
    },
    "tags": []
   },
   "outputs": [],
   "source": [
    "#import all libraries\n",
    "import seaborn as sns\n",
    "from sklearn.metrics import confusion_matrix, accuracy_score, classification_report\n",
    "from sklearn.impute import SimpleImputer\n",
    "import matplotlib.pyplot as plt\n",
    "from sklearn.metrics import mean_absolute_error\n",
    "from sklearn.model_selection import train_test_split\n",
    "from sklearn.tree import plot_tree\n",
    "from sklearn.model_selection import GridSearchCV\n",
    "from sklearn.model_selection import cross_val_score\n",
    "from sklearn.ensemble import RandomForestClassifier\n",
    "from sklearn.preprocessing import LabelEncoder"
   ]
  },
  {
   "cell_type": "code",
   "execution_count": 3,
   "id": "5336e579",
   "metadata": {
    "execution": {
     "iopub.execute_input": "2025-05-24T17:31:55.325790Z",
     "iopub.status.busy": "2025-05-24T17:31:55.325362Z",
     "iopub.status.idle": "2025-05-24T17:31:55.348526Z",
     "shell.execute_reply": "2025-05-24T17:31:55.347724Z"
    },
    "papermill": {
     "duration": 0.030956,
     "end_time": "2025-05-24T17:31:55.350029",
     "exception": false,
     "start_time": "2025-05-24T17:31:55.319073",
     "status": "completed"
    },
    "tags": []
   },
   "outputs": [],
   "source": [
    "#load the datasets\n",
    "trainingData = pd.read_csv(\"/kaggle/input/titanic/train.csv\")"
   ]
  },
  {
   "cell_type": "code",
   "execution_count": 4,
   "id": "03ce0d7f",
   "metadata": {
    "execution": {
     "iopub.execute_input": "2025-05-24T17:31:55.361310Z",
     "iopub.status.busy": "2025-05-24T17:31:55.360941Z",
     "iopub.status.idle": "2025-05-24T17:31:55.388710Z",
     "shell.execute_reply": "2025-05-24T17:31:55.387738Z"
    },
    "papermill": {
     "duration": 0.035177,
     "end_time": "2025-05-24T17:31:55.390228",
     "exception": false,
     "start_time": "2025-05-24T17:31:55.355051",
     "status": "completed"
    },
    "tags": []
   },
   "outputs": [
    {
     "data": {
      "text/html": [
       "<div>\n",
       "<style scoped>\n",
       "    .dataframe tbody tr th:only-of-type {\n",
       "        vertical-align: middle;\n",
       "    }\n",
       "\n",
       "    .dataframe tbody tr th {\n",
       "        vertical-align: top;\n",
       "    }\n",
       "\n",
       "    .dataframe thead th {\n",
       "        text-align: right;\n",
       "    }\n",
       "</style>\n",
       "<table border=\"1\" class=\"dataframe\">\n",
       "  <thead>\n",
       "    <tr style=\"text-align: right;\">\n",
       "      <th></th>\n",
       "      <th>PassengerId</th>\n",
       "      <th>Survived</th>\n",
       "      <th>Pclass</th>\n",
       "      <th>Name</th>\n",
       "      <th>Sex</th>\n",
       "      <th>Age</th>\n",
       "      <th>SibSp</th>\n",
       "      <th>Parch</th>\n",
       "      <th>Ticket</th>\n",
       "      <th>Fare</th>\n",
       "      <th>Cabin</th>\n",
       "      <th>Embarked</th>\n",
       "    </tr>\n",
       "  </thead>\n",
       "  <tbody>\n",
       "    <tr>\n",
       "      <th>0</th>\n",
       "      <td>1</td>\n",
       "      <td>0</td>\n",
       "      <td>3</td>\n",
       "      <td>Braund, Mr. Owen Harris</td>\n",
       "      <td>male</td>\n",
       "      <td>22.0</td>\n",
       "      <td>1</td>\n",
       "      <td>0</td>\n",
       "      <td>A/5 21171</td>\n",
       "      <td>7.2500</td>\n",
       "      <td>NaN</td>\n",
       "      <td>S</td>\n",
       "    </tr>\n",
       "    <tr>\n",
       "      <th>1</th>\n",
       "      <td>2</td>\n",
       "      <td>1</td>\n",
       "      <td>1</td>\n",
       "      <td>Cumings, Mrs. John Bradley (Florence Briggs Th...</td>\n",
       "      <td>female</td>\n",
       "      <td>38.0</td>\n",
       "      <td>1</td>\n",
       "      <td>0</td>\n",
       "      <td>PC 17599</td>\n",
       "      <td>71.2833</td>\n",
       "      <td>C85</td>\n",
       "      <td>C</td>\n",
       "    </tr>\n",
       "    <tr>\n",
       "      <th>2</th>\n",
       "      <td>3</td>\n",
       "      <td>1</td>\n",
       "      <td>3</td>\n",
       "      <td>Heikkinen, Miss. Laina</td>\n",
       "      <td>female</td>\n",
       "      <td>26.0</td>\n",
       "      <td>0</td>\n",
       "      <td>0</td>\n",
       "      <td>STON/O2. 3101282</td>\n",
       "      <td>7.9250</td>\n",
       "      <td>NaN</td>\n",
       "      <td>S</td>\n",
       "    </tr>\n",
       "    <tr>\n",
       "      <th>3</th>\n",
       "      <td>4</td>\n",
       "      <td>1</td>\n",
       "      <td>1</td>\n",
       "      <td>Futrelle, Mrs. Jacques Heath (Lily May Peel)</td>\n",
       "      <td>female</td>\n",
       "      <td>35.0</td>\n",
       "      <td>1</td>\n",
       "      <td>0</td>\n",
       "      <td>113803</td>\n",
       "      <td>53.1000</td>\n",
       "      <td>C123</td>\n",
       "      <td>S</td>\n",
       "    </tr>\n",
       "    <tr>\n",
       "      <th>4</th>\n",
       "      <td>5</td>\n",
       "      <td>0</td>\n",
       "      <td>3</td>\n",
       "      <td>Allen, Mr. William Henry</td>\n",
       "      <td>male</td>\n",
       "      <td>35.0</td>\n",
       "      <td>0</td>\n",
       "      <td>0</td>\n",
       "      <td>373450</td>\n",
       "      <td>8.0500</td>\n",
       "      <td>NaN</td>\n",
       "      <td>S</td>\n",
       "    </tr>\n",
       "  </tbody>\n",
       "</table>\n",
       "</div>"
      ],
      "text/plain": [
       "   PassengerId  Survived  Pclass  \\\n",
       "0            1         0       3   \n",
       "1            2         1       1   \n",
       "2            3         1       3   \n",
       "3            4         1       1   \n",
       "4            5         0       3   \n",
       "\n",
       "                                                Name     Sex   Age  SibSp  \\\n",
       "0                            Braund, Mr. Owen Harris    male  22.0      1   \n",
       "1  Cumings, Mrs. John Bradley (Florence Briggs Th...  female  38.0      1   \n",
       "2                             Heikkinen, Miss. Laina  female  26.0      0   \n",
       "3       Futrelle, Mrs. Jacques Heath (Lily May Peel)  female  35.0      1   \n",
       "4                           Allen, Mr. William Henry    male  35.0      0   \n",
       "\n",
       "   Parch            Ticket     Fare Cabin Embarked  \n",
       "0      0         A/5 21171   7.2500   NaN        S  \n",
       "1      0          PC 17599  71.2833   C85        C  \n",
       "2      0  STON/O2. 3101282   7.9250   NaN        S  \n",
       "3      0            113803  53.1000  C123        S  \n",
       "4      0            373450   8.0500   NaN        S  "
      ]
     },
     "execution_count": 4,
     "metadata": {},
     "output_type": "execute_result"
    }
   ],
   "source": [
    "# viewing the data sample\n",
    "trainingData.head()"
   ]
  },
  {
   "cell_type": "code",
   "execution_count": 5,
   "id": "e259cc0c",
   "metadata": {
    "execution": {
     "iopub.execute_input": "2025-05-24T17:31:55.402413Z",
     "iopub.status.busy": "2025-05-24T17:31:55.401506Z",
     "iopub.status.idle": "2025-05-24T17:31:55.427941Z",
     "shell.execute_reply": "2025-05-24T17:31:55.427015Z"
    },
    "papermill": {
     "duration": 0.034166,
     "end_time": "2025-05-24T17:31:55.429691",
     "exception": false,
     "start_time": "2025-05-24T17:31:55.395525",
     "status": "completed"
    },
    "tags": []
   },
   "outputs": [
    {
     "name": "stdout",
     "output_type": "stream",
     "text": [
      "<class 'pandas.core.frame.DataFrame'>\n",
      "RangeIndex: 891 entries, 0 to 890\n",
      "Data columns (total 12 columns):\n",
      " #   Column       Non-Null Count  Dtype  \n",
      "---  ------       --------------  -----  \n",
      " 0   PassengerId  891 non-null    int64  \n",
      " 1   Survived     891 non-null    int64  \n",
      " 2   Pclass       891 non-null    int64  \n",
      " 3   Name         891 non-null    object \n",
      " 4   Sex          891 non-null    object \n",
      " 5   Age          714 non-null    float64\n",
      " 6   SibSp        891 non-null    int64  \n",
      " 7   Parch        891 non-null    int64  \n",
      " 8   Ticket       891 non-null    object \n",
      " 9   Fare         891 non-null    float64\n",
      " 10  Cabin        204 non-null    object \n",
      " 11  Embarked     891 non-null    object \n",
      "dtypes: float64(2), int64(5), object(5)\n",
      "memory usage: 83.7+ KB\n"
     ]
    }
   ],
   "source": [
    "#impute all available columns except useless ones\n",
    "#imp = [Sex, \n",
    "#       Age(due to missing vals),\n",
    "#       Embarked(first fill missing with 'C')]\n",
    "\n",
    "##for now only 'Embarked'\n",
    "label_encoder = LabelEncoder()\n",
    "\n",
    "trainingData['Embarked'] = trainingData['Embarked'].fillna('C')\n",
    "\n",
    "trainingData.isnull().sum()\n",
    "trainingData.info()\n",
    "\n",
    "trainingData['Embarked'] = label_encoder.fit_transform(trainingData['Embarked'])"
   ]
  },
  {
   "cell_type": "code",
   "execution_count": 6,
   "id": "dd94f081",
   "metadata": {
    "execution": {
     "iopub.execute_input": "2025-05-24T17:31:55.441326Z",
     "iopub.status.busy": "2025-05-24T17:31:55.440977Z",
     "iopub.status.idle": "2025-05-24T17:31:55.450096Z",
     "shell.execute_reply": "2025-05-24T17:31:55.449054Z"
    },
    "papermill": {
     "duration": 0.016499,
     "end_time": "2025-05-24T17:31:55.451507",
     "exception": false,
     "start_time": "2025-05-24T17:31:55.435008",
     "status": "completed"
    },
    "tags": []
   },
   "outputs": [
    {
     "data": {
      "text/plain": [
       "array([2, 0, 1])"
      ]
     },
     "execution_count": 6,
     "metadata": {},
     "output_type": "execute_result"
    }
   ],
   "source": [
    "trainingData.Embarked.unique()"
   ]
  },
  {
   "cell_type": "code",
   "execution_count": 7,
   "id": "0ed54bce",
   "metadata": {
    "execution": {
     "iopub.execute_input": "2025-05-24T17:31:55.464144Z",
     "iopub.status.busy": "2025-05-24T17:31:55.463465Z",
     "iopub.status.idle": "2025-05-24T17:31:55.478268Z",
     "shell.execute_reply": "2025-05-24T17:31:55.477458Z"
    },
    "papermill": {
     "duration": 0.022844,
     "end_time": "2025-05-24T17:31:55.479665",
     "exception": false,
     "start_time": "2025-05-24T17:31:55.456821",
     "status": "completed"
    },
    "tags": []
   },
   "outputs": [
    {
     "data": {
      "text/html": [
       "<div>\n",
       "<style scoped>\n",
       "    .dataframe tbody tr th:only-of-type {\n",
       "        vertical-align: middle;\n",
       "    }\n",
       "\n",
       "    .dataframe tbody tr th {\n",
       "        vertical-align: top;\n",
       "    }\n",
       "\n",
       "    .dataframe thead th {\n",
       "        text-align: right;\n",
       "    }\n",
       "</style>\n",
       "<table border=\"1\" class=\"dataframe\">\n",
       "  <thead>\n",
       "    <tr style=\"text-align: right;\">\n",
       "      <th></th>\n",
       "      <th>Survived</th>\n",
       "      <th>Pclass</th>\n",
       "      <th>Sex</th>\n",
       "      <th>Age</th>\n",
       "      <th>SibSp</th>\n",
       "      <th>Parch</th>\n",
       "      <th>Fare</th>\n",
       "      <th>Embarked</th>\n",
       "    </tr>\n",
       "  </thead>\n",
       "  <tbody>\n",
       "    <tr>\n",
       "      <th>0</th>\n",
       "      <td>0</td>\n",
       "      <td>3</td>\n",
       "      <td>male</td>\n",
       "      <td>22.0</td>\n",
       "      <td>1</td>\n",
       "      <td>0</td>\n",
       "      <td>7.2500</td>\n",
       "      <td>2</td>\n",
       "    </tr>\n",
       "    <tr>\n",
       "      <th>1</th>\n",
       "      <td>1</td>\n",
       "      <td>1</td>\n",
       "      <td>female</td>\n",
       "      <td>38.0</td>\n",
       "      <td>1</td>\n",
       "      <td>0</td>\n",
       "      <td>71.2833</td>\n",
       "      <td>0</td>\n",
       "    </tr>\n",
       "    <tr>\n",
       "      <th>2</th>\n",
       "      <td>1</td>\n",
       "      <td>3</td>\n",
       "      <td>female</td>\n",
       "      <td>26.0</td>\n",
       "      <td>0</td>\n",
       "      <td>0</td>\n",
       "      <td>7.9250</td>\n",
       "      <td>2</td>\n",
       "    </tr>\n",
       "    <tr>\n",
       "      <th>3</th>\n",
       "      <td>1</td>\n",
       "      <td>1</td>\n",
       "      <td>female</td>\n",
       "      <td>35.0</td>\n",
       "      <td>1</td>\n",
       "      <td>0</td>\n",
       "      <td>53.1000</td>\n",
       "      <td>2</td>\n",
       "    </tr>\n",
       "    <tr>\n",
       "      <th>4</th>\n",
       "      <td>0</td>\n",
       "      <td>3</td>\n",
       "      <td>male</td>\n",
       "      <td>35.0</td>\n",
       "      <td>0</td>\n",
       "      <td>0</td>\n",
       "      <td>8.0500</td>\n",
       "      <td>2</td>\n",
       "    </tr>\n",
       "  </tbody>\n",
       "</table>\n",
       "</div>"
      ],
      "text/plain": [
       "   Survived  Pclass     Sex   Age  SibSp  Parch     Fare  Embarked\n",
       "0         0       3    male  22.0      1      0   7.2500         2\n",
       "1         1       1  female  38.0      1      0  71.2833         0\n",
       "2         1       3  female  26.0      0      0   7.9250         2\n",
       "3         1       1  female  35.0      1      0  53.1000         2\n",
       "4         0       3    male  35.0      0      0   8.0500         2"
      ]
     },
     "execution_count": 7,
     "metadata": {},
     "output_type": "execute_result"
    }
   ],
   "source": [
    "# show all columns\n",
    "\n",
    "X = ['Survived', 'Pclass', 'Sex','Age', 'SibSp',\n",
    "       'Parch', 'Fare', 'Embarked']\n",
    "\n",
    "X_features = trainingData[X]\n",
    "\n",
    "X_features.head()"
   ]
  },
  {
   "cell_type": "code",
   "execution_count": 8,
   "id": "719b2f9b",
   "metadata": {
    "execution": {
     "iopub.execute_input": "2025-05-24T17:31:55.492220Z",
     "iopub.status.busy": "2025-05-24T17:31:55.491829Z",
     "iopub.status.idle": "2025-05-24T17:31:55.512493Z",
     "shell.execute_reply": "2025-05-24T17:31:55.511604Z"
    },
    "papermill": {
     "duration": 0.028617,
     "end_time": "2025-05-24T17:31:55.514022",
     "exception": false,
     "start_time": "2025-05-24T17:31:55.485405",
     "status": "completed"
    },
    "tags": []
   },
   "outputs": [
    {
     "name": "stderr",
     "output_type": "stream",
     "text": [
      "/tmp/ipykernel_13/2717463761.py:2: SettingWithCopyWarning: \n",
      "A value is trying to be set on a copy of a slice from a DataFrame.\n",
      "Try using .loc[row_indexer,col_indexer] = value instead\n",
      "\n",
      "See the caveats in the documentation: https://pandas.pydata.org/pandas-docs/stable/user_guide/indexing.html#returning-a-view-versus-a-copy\n",
      "  X_features['Sex'] = pd.get_dummies(X_features['Sex'], drop_first = True)\n",
      "/usr/local/lib/python3.11/dist-packages/pandas/io/formats/format.py:1458: RuntimeWarning: invalid value encountered in greater\n",
      "  has_large_values = (abs_vals > 1e6).any()\n",
      "/usr/local/lib/python3.11/dist-packages/pandas/io/formats/format.py:1459: RuntimeWarning: invalid value encountered in less\n",
      "  has_small_values = ((abs_vals < 10 ** (-self.digits)) & (abs_vals > 0)).any()\n",
      "/usr/local/lib/python3.11/dist-packages/pandas/io/formats/format.py:1459: RuntimeWarning: invalid value encountered in greater\n",
      "  has_small_values = ((abs_vals < 10 ** (-self.digits)) & (abs_vals > 0)).any()\n"
     ]
    },
    {
     "data": {
      "text/html": [
       "<div>\n",
       "<style scoped>\n",
       "    .dataframe tbody tr th:only-of-type {\n",
       "        vertical-align: middle;\n",
       "    }\n",
       "\n",
       "    .dataframe tbody tr th {\n",
       "        vertical-align: top;\n",
       "    }\n",
       "\n",
       "    .dataframe thead th {\n",
       "        text-align: right;\n",
       "    }\n",
       "</style>\n",
       "<table border=\"1\" class=\"dataframe\">\n",
       "  <thead>\n",
       "    <tr style=\"text-align: right;\">\n",
       "      <th></th>\n",
       "      <th>Survived</th>\n",
       "      <th>Pclass</th>\n",
       "      <th>Sex</th>\n",
       "      <th>Age</th>\n",
       "      <th>SibSp</th>\n",
       "      <th>Parch</th>\n",
       "      <th>Fare</th>\n",
       "      <th>Embarked</th>\n",
       "    </tr>\n",
       "  </thead>\n",
       "  <tbody>\n",
       "    <tr>\n",
       "      <th>0</th>\n",
       "      <td>0</td>\n",
       "      <td>3</td>\n",
       "      <td>True</td>\n",
       "      <td>22.0</td>\n",
       "      <td>1</td>\n",
       "      <td>0</td>\n",
       "      <td>7.2500</td>\n",
       "      <td>2</td>\n",
       "    </tr>\n",
       "    <tr>\n",
       "      <th>1</th>\n",
       "      <td>1</td>\n",
       "      <td>1</td>\n",
       "      <td>False</td>\n",
       "      <td>38.0</td>\n",
       "      <td>1</td>\n",
       "      <td>0</td>\n",
       "      <td>71.2833</td>\n",
       "      <td>0</td>\n",
       "    </tr>\n",
       "    <tr>\n",
       "      <th>2</th>\n",
       "      <td>1</td>\n",
       "      <td>3</td>\n",
       "      <td>False</td>\n",
       "      <td>26.0</td>\n",
       "      <td>0</td>\n",
       "      <td>0</td>\n",
       "      <td>7.9250</td>\n",
       "      <td>2</td>\n",
       "    </tr>\n",
       "    <tr>\n",
       "      <th>3</th>\n",
       "      <td>1</td>\n",
       "      <td>1</td>\n",
       "      <td>False</td>\n",
       "      <td>35.0</td>\n",
       "      <td>1</td>\n",
       "      <td>0</td>\n",
       "      <td>53.1000</td>\n",
       "      <td>2</td>\n",
       "    </tr>\n",
       "    <tr>\n",
       "      <th>4</th>\n",
       "      <td>0</td>\n",
       "      <td>3</td>\n",
       "      <td>True</td>\n",
       "      <td>35.0</td>\n",
       "      <td>0</td>\n",
       "      <td>0</td>\n",
       "      <td>8.0500</td>\n",
       "      <td>2</td>\n",
       "    </tr>\n",
       "    <tr>\n",
       "      <th>...</th>\n",
       "      <td>...</td>\n",
       "      <td>...</td>\n",
       "      <td>...</td>\n",
       "      <td>...</td>\n",
       "      <td>...</td>\n",
       "      <td>...</td>\n",
       "      <td>...</td>\n",
       "      <td>...</td>\n",
       "    </tr>\n",
       "    <tr>\n",
       "      <th>886</th>\n",
       "      <td>0</td>\n",
       "      <td>2</td>\n",
       "      <td>True</td>\n",
       "      <td>27.0</td>\n",
       "      <td>0</td>\n",
       "      <td>0</td>\n",
       "      <td>13.0000</td>\n",
       "      <td>2</td>\n",
       "    </tr>\n",
       "    <tr>\n",
       "      <th>887</th>\n",
       "      <td>1</td>\n",
       "      <td>1</td>\n",
       "      <td>False</td>\n",
       "      <td>19.0</td>\n",
       "      <td>0</td>\n",
       "      <td>0</td>\n",
       "      <td>30.0000</td>\n",
       "      <td>2</td>\n",
       "    </tr>\n",
       "    <tr>\n",
       "      <th>888</th>\n",
       "      <td>0</td>\n",
       "      <td>3</td>\n",
       "      <td>False</td>\n",
       "      <td>NaN</td>\n",
       "      <td>1</td>\n",
       "      <td>2</td>\n",
       "      <td>23.4500</td>\n",
       "      <td>2</td>\n",
       "    </tr>\n",
       "    <tr>\n",
       "      <th>889</th>\n",
       "      <td>1</td>\n",
       "      <td>1</td>\n",
       "      <td>True</td>\n",
       "      <td>26.0</td>\n",
       "      <td>0</td>\n",
       "      <td>0</td>\n",
       "      <td>30.0000</td>\n",
       "      <td>0</td>\n",
       "    </tr>\n",
       "    <tr>\n",
       "      <th>890</th>\n",
       "      <td>0</td>\n",
       "      <td>3</td>\n",
       "      <td>True</td>\n",
       "      <td>32.0</td>\n",
       "      <td>0</td>\n",
       "      <td>0</td>\n",
       "      <td>7.7500</td>\n",
       "      <td>1</td>\n",
       "    </tr>\n",
       "  </tbody>\n",
       "</table>\n",
       "<p>891 rows × 8 columns</p>\n",
       "</div>"
      ],
      "text/plain": [
       "     Survived  Pclass    Sex   Age  SibSp  Parch     Fare  Embarked\n",
       "0           0       3   True  22.0      1      0   7.2500         2\n",
       "1           1       1  False  38.0      1      0  71.2833         0\n",
       "2           1       3  False  26.0      0      0   7.9250         2\n",
       "3           1       1  False  35.0      1      0  53.1000         2\n",
       "4           0       3   True  35.0      0      0   8.0500         2\n",
       "..        ...     ...    ...   ...    ...    ...      ...       ...\n",
       "886         0       2   True  27.0      0      0  13.0000         2\n",
       "887         1       1  False  19.0      0      0  30.0000         2\n",
       "888         0       3  False   NaN      1      2  23.4500         2\n",
       "889         1       1   True  26.0      0      0  30.0000         0\n",
       "890         0       3   True  32.0      0      0   7.7500         1\n",
       "\n",
       "[891 rows x 8 columns]"
      ]
     },
     "execution_count": 8,
     "metadata": {},
     "output_type": "execute_result"
    }
   ],
   "source": [
    "#encode the categorical Data 'Sex'\n",
    "X_features['Sex'] = pd.get_dummies(X_features['Sex'], drop_first = True)\n",
    "\n",
    "#rename the dataset\n",
    "X_features"
   ]
  },
  {
   "cell_type": "code",
   "execution_count": 9,
   "id": "116acdc2",
   "metadata": {
    "execution": {
     "iopub.execute_input": "2025-05-24T17:31:55.527097Z",
     "iopub.status.busy": "2025-05-24T17:31:55.526759Z",
     "iopub.status.idle": "2025-05-24T17:31:56.060816Z",
     "shell.execute_reply": "2025-05-24T17:31:56.059715Z"
    },
    "papermill": {
     "duration": 0.543353,
     "end_time": "2025-05-24T17:31:56.063425",
     "exception": false,
     "start_time": "2025-05-24T17:31:55.520072",
     "status": "completed"
    },
    "tags": []
   },
   "outputs": [
    {
     "data": {
      "text/plain": [
       "Text(0.5, 1.0, 'Correlation Heatmap')"
      ]
     },
     "execution_count": 9,
     "metadata": {},
     "output_type": "execute_result"
    },
    {
     "data": {
      "image/png": "[encoded data removed]",
      "text/plain": [
       "<Figure size 640x480 with 2 Axes>"
      ]
     },
     "metadata": {},
     "output_type": "display_data"
    }
   ],
   "source": [
    "#correlation heatmap\n",
    "heatmap =  sns.heatmap(X_features.corr(), cmap = \"Blues\", annot = True)\n",
    "heatmap.set_title(\"Correlation Heatmap\", fontdict={'fontsize':20})"
   ]
  },
  {
   "cell_type": "code",
   "execution_count": 10,
   "id": "832d17c5",
   "metadata": {
    "execution": {
     "iopub.execute_input": "2025-05-24T17:31:56.080285Z",
     "iopub.status.busy": "2025-05-24T17:31:56.079822Z",
     "iopub.status.idle": "2025-05-24T17:31:56.086098Z",
     "shell.execute_reply": "2025-05-24T17:31:56.085220Z"
    },
    "papermill": {
     "duration": 0.015875,
     "end_time": "2025-05-24T17:31:56.087640",
     "exception": false,
     "start_time": "2025-05-24T17:31:56.071765",
     "status": "completed"
    },
    "tags": []
   },
   "outputs": [],
   "source": [
    "#feature selection\n",
    "#First: Let the Dtree select by itself\n",
    "#Second : ['Age','Sex','Fare']\n",
    "#Third: All\n",
    "\n",
    "Final_X = ['Pclass','Sex','Age','Fare','Embarked']\n",
    "Final_X_features = X_features[Final_X]\n",
    "Y = trainingData['Survived']"
   ]
  },
  {
   "cell_type": "code",
   "execution_count": 11,
   "id": "5fa24125",
   "metadata": {
    "execution": {
     "iopub.execute_input": "2025-05-24T17:31:56.103266Z",
     "iopub.status.busy": "2025-05-24T17:31:56.102895Z",
     "iopub.status.idle": "2025-05-24T17:31:56.119473Z",
     "shell.execute_reply": "2025-05-24T17:31:56.118435Z"
    },
    "papermill": {
     "duration": 0.026129,
     "end_time": "2025-05-24T17:31:56.120959",
     "exception": false,
     "start_time": "2025-05-24T17:31:56.094830",
     "status": "completed"
    },
    "tags": []
   },
   "outputs": [
    {
     "data": {
      "text/plain": [
       "Pclass       0\n",
       "Sex          0\n",
       "Age         86\n",
       "Fare         1\n",
       "Embarked     0\n",
       "dtype: int64"
      ]
     },
     "execution_count": 11,
     "metadata": {},
     "output_type": "execute_result"
    }
   ],
   "source": [
    "#load the test Data\n",
    "testingData = pd.read_csv(\"/kaggle/input/titanic/test.csv\")\n",
    "testX_features = ['Pclass','Sex','Age','Fare','Embarked']\n",
    "testX = testingData[testX_features]\n",
    "testX.isnull().sum()"
   ]
  },
  {
   "cell_type": "code",
   "execution_count": 12,
   "id": "2a8b438d",
   "metadata": {
    "execution": {
     "iopub.execute_input": "2025-05-24T17:31:56.137072Z",
     "iopub.status.busy": "2025-05-24T17:31:56.136755Z",
     "iopub.status.idle": "2025-05-24T17:31:56.144117Z",
     "shell.execute_reply": "2025-05-24T17:31:56.143398Z"
    },
    "papermill": {
     "duration": 0.01677,
     "end_time": "2025-05-24T17:31:56.145550",
     "exception": false,
     "start_time": "2025-05-24T17:31:56.128780",
     "status": "completed"
    },
    "tags": []
   },
   "outputs": [
    {
     "data": {
      "text/plain": [
       "Pclass        0\n",
       "Sex           0\n",
       "Age         177\n",
       "Fare          0\n",
       "Embarked      0\n",
       "dtype: int64"
      ]
     },
     "execution_count": 12,
     "metadata": {},
     "output_type": "execute_result"
    }
   ],
   "source": [
    "Final_X_features.isnull().sum()"
   ]
  },
  {
   "cell_type": "code",
   "execution_count": 13,
   "id": "9dbf879a",
   "metadata": {
    "execution": {
     "iopub.execute_input": "2025-05-24T17:31:56.161736Z",
     "iopub.status.busy": "2025-05-24T17:31:56.161410Z",
     "iopub.status.idle": "2025-05-24T17:31:56.183082Z",
     "shell.execute_reply": "2025-05-24T17:31:56.182102Z"
    },
    "papermill": {
     "duration": 0.031708,
     "end_time": "2025-05-24T17:31:56.184488",
     "exception": false,
     "start_time": "2025-05-24T17:31:56.152780",
     "status": "completed"
    },
    "tags": []
   },
   "outputs": [
    {
     "name": "stderr",
     "output_type": "stream",
     "text": [
      "/tmp/ipykernel_13/1474025730.py:9: SettingWithCopyWarning: \n",
      "A value is trying to be set on a copy of a slice from a DataFrame.\n",
      "Try using .loc[row_indexer,col_indexer] = value instead\n",
      "\n",
      "See the caveats in the documentation: https://pandas.pydata.org/pandas-docs/stable/user_guide/indexing.html#returning-a-view-versus-a-copy\n",
      "  Final_X_features['Age'] = age_imputer.fit_transform(Final_X_features[['Age']])\n",
      "/tmp/ipykernel_13/1474025730.py:10: SettingWithCopyWarning: \n",
      "A value is trying to be set on a copy of a slice from a DataFrame.\n",
      "Try using .loc[row_indexer,col_indexer] = value instead\n",
      "\n",
      "See the caveats in the documentation: https://pandas.pydata.org/pandas-docs/stable/user_guide/indexing.html#returning-a-view-versus-a-copy\n",
      "  testX['Age'] = age_imputer.fit_transform(testX[['Age']])\n",
      "/tmp/ipykernel_13/1474025730.py:13: SettingWithCopyWarning: \n",
      "A value is trying to be set on a copy of a slice from a DataFrame.\n",
      "Try using .loc[row_indexer,col_indexer] = value instead\n",
      "\n",
      "See the caveats in the documentation: https://pandas.pydata.org/pandas-docs/stable/user_guide/indexing.html#returning-a-view-versus-a-copy\n",
      "  testX['Fare'] = imputer.fit_transform(testX[['Fare']])\n",
      "/tmp/ipykernel_13/1474025730.py:16: SettingWithCopyWarning: \n",
      "A value is trying to be set on a copy of a slice from a DataFrame.\n",
      "Try using .loc[row_indexer,col_indexer] = value instead\n",
      "\n",
      "See the caveats in the documentation: https://pandas.pydata.org/pandas-docs/stable/user_guide/indexing.html#returning-a-view-versus-a-copy\n",
      "  testX['Sex'] = pd.get_dummies(testX['Sex'], drop_first = True)\n",
      "/tmp/ipykernel_13/1474025730.py:19: SettingWithCopyWarning: \n",
      "A value is trying to be set on a copy of a slice from a DataFrame.\n",
      "Try using .loc[row_indexer,col_indexer] = value instead\n",
      "\n",
      "See the caveats in the documentation: https://pandas.pydata.org/pandas-docs/stable/user_guide/indexing.html#returning-a-view-versus-a-copy\n",
      "  testX['Embarked'] = label_encoder.fit_transform(testX['Embarked'])\n"
     ]
    }
   ],
   "source": [
    "#impute both datasets\n",
    "\n",
    "#Age\n",
    "imputer = SimpleImputer(strategy='mean')\n",
    "age_imputer = SimpleImputer(strategy = 'most_frequent')\n",
    "label_encoder = LabelEncoder()\n",
    "\n",
    "\n",
    "Final_X_features['Age'] = age_imputer.fit_transform(Final_X_features[['Age']])\n",
    "testX['Age'] = age_imputer.fit_transform(testX[['Age']])\n",
    "\n",
    "#Fare\n",
    "testX['Fare'] = imputer.fit_transform(testX[['Fare']])\n",
    "\n",
    "#Sex\n",
    "testX['Sex'] = pd.get_dummies(testX['Sex'], drop_first = True)\n",
    "\n",
    "#Embarked\n",
    "testX['Embarked'] = label_encoder.fit_transform(testX['Embarked'])\n",
    "#testX.Embarked.unique()"
   ]
  },
  {
   "cell_type": "code",
   "execution_count": 14,
   "id": "efe9ece1",
   "metadata": {
    "execution": {
     "iopub.execute_input": "2025-05-24T17:31:56.200738Z",
     "iopub.status.busy": "2025-05-24T17:31:56.200423Z",
     "iopub.status.idle": "2025-05-24T17:31:56.207615Z",
     "shell.execute_reply": "2025-05-24T17:31:56.206737Z"
    },
    "papermill": {
     "duration": 0.017293,
     "end_time": "2025-05-24T17:31:56.209115",
     "exception": false,
     "start_time": "2025-05-24T17:31:56.191822",
     "status": "completed"
    },
    "tags": []
   },
   "outputs": [],
   "source": [
    "#Split the dataset\n",
    "X_train, X_test, Y_train, Y_test = train_test_split(Final_X_features,\n",
    "                                                   Y,\n",
    "                                                   test_size = 0.2, \n",
    "                                                   random_state = 42)"
   ]
  },
  {
   "cell_type": "code",
   "execution_count": 15,
   "id": "92d8a3ed",
   "metadata": {
    "execution": {
     "iopub.execute_input": "2025-05-24T17:31:56.225200Z",
     "iopub.status.busy": "2025-05-24T17:31:56.224796Z",
     "iopub.status.idle": "2025-05-24T17:31:56.420460Z",
     "shell.execute_reply": "2025-05-24T17:31:56.419560Z"
    },
    "papermill": {
     "duration": 0.205472,
     "end_time": "2025-05-24T17:31:56.422122",
     "exception": false,
     "start_time": "2025-05-24T17:31:56.216650",
     "status": "completed"
    },
    "tags": []
   },
   "outputs": [],
   "source": [
    "#Random Forest Model\n",
    "model = RandomForestClassifier(\n",
    "                                n_estimators = 100,\n",
    "                                max_depth = None,\n",
    "                                random_state = 42,\n",
    "                              )\n",
    "\n",
    "model.fit(X_train, Y_train)\n",
    "\n",
    "pred = model.predict(X_test)"
   ]
  },
  {
   "cell_type": "code",
   "execution_count": 16,
   "id": "ebeb3fa5",
   "metadata": {
    "execution": {
     "iopub.execute_input": "2025-05-24T17:31:56.438217Z",
     "iopub.status.busy": "2025-05-24T17:31:56.437846Z",
     "iopub.status.idle": "2025-05-24T17:31:56.602006Z",
     "shell.execute_reply": "2025-05-24T17:31:56.600973Z"
    },
    "papermill": {
     "duration": 0.174372,
     "end_time": "2025-05-24T17:31:56.603814",
     "exception": false,
     "start_time": "2025-05-24T17:31:56.429442",
     "status": "completed"
    },
    "tags": []
   },
   "outputs": [
    {
     "data": {
      "image/png": "[encoded data removed]",
      "text/plain": [
       "<Figure size 1000x600 with 1 Axes>"
      ]
     },
     "metadata": {},
     "output_type": "display_data"
    }
   ],
   "source": [
    "importances = model.feature_importances_\n",
    "feature_names = X_train.columns if hasattr(X_train, 'columns') else [f\"feature_{i}\" for i in range(X_train.shape[1])]\n",
    "\n",
    "feat_imp_df = pd.DataFrame({'Feature': feature_names, 'Importance': importances})\n",
    "feat_imp_df = feat_imp_df.sort_values(by='Importance', ascending=False)\n",
    "\n",
    "plt.figure(figsize=(10, 6))\n",
    "plt.barh(feat_imp_df['Feature'], feat_imp_df['Importance'])\n",
    "plt.gca().invert_yaxis()\n",
    "plt.title('Feature Importance')\n",
    "plt.show()"
   ]
  },
  {
   "cell_type": "code",
   "execution_count": 17,
   "id": "4dfa917a",
   "metadata": {
    "execution": {
     "iopub.execute_input": "2025-05-24T17:31:56.621041Z",
     "iopub.status.busy": "2025-05-24T17:31:56.620224Z",
     "iopub.status.idle": "2025-05-24T17:31:56.634574Z",
     "shell.execute_reply": "2025-05-24T17:31:56.633516Z"
    },
    "papermill": {
     "duration": 0.024605,
     "end_time": "2025-05-24T17:31:56.636238",
     "exception": false,
     "start_time": "2025-05-24T17:31:56.611633",
     "status": "completed"
    },
    "tags": []
   },
   "outputs": [
    {
     "name": "stdout",
     "output_type": "stream",
     "text": [
      "Accuracy Score : 0.8044692737430168\n",
      "Mean Absolute Error : 0.19553072625698323\n",
      "              precision    recall  f1-score   support\n",
      "\n",
      "           0       0.83      0.84      0.83       105\n",
      "           1       0.77      0.76      0.76        74\n",
      "\n",
      "    accuracy                           0.80       179\n",
      "   macro avg       0.80      0.80      0.80       179\n",
      "weighted avg       0.80      0.80      0.80       179\n",
      "\n"
     ]
    }
   ],
   "source": [
    "#metrics\n",
    "accu = accuracy_score(Y_test, pred)\n",
    "mae = mean_absolute_error(Y_test, pred)\n",
    "\n",
    "print(f\"Accuracy Score : {accu}\")\n",
    "print(f\"Mean Absolute Error : {mae}\")\n",
    "print(classification_report(Y_test, pred))"
   ]
  },
  {
   "cell_type": "code",
   "execution_count": 18,
   "id": "7b3966ec",
   "metadata": {
    "execution": {
     "iopub.execute_input": "2025-05-24T17:31:56.653978Z",
     "iopub.status.busy": "2025-05-24T17:31:56.653042Z",
     "iopub.status.idle": "2025-05-24T17:31:56.657812Z",
     "shell.execute_reply": "2025-05-24T17:31:56.656945Z"
    },
    "papermill": {
     "duration": 0.015361,
     "end_time": "2025-05-24T17:31:56.659408",
     "exception": false,
     "start_time": "2025-05-24T17:31:56.644047",
     "status": "completed"
    },
    "tags": []
   },
   "outputs": [],
   "source": [
    "# #tuning tree with Grid SearchCV\n",
    "\n",
    "# #parameter grid\n",
    "# param_grid = {\n",
    "#     'n_estimators' : [50,100,200],\n",
    "#     'max_depth' : [None, 10,20,30],\n",
    "#     'min_samples_split': [2, 5, 10],\n",
    "#     'min_samples_leaf': [1, 2, 4],\n",
    "#     'max_features': ['sqrt', 'log2', None]\n",
    "# }\n",
    "\n",
    "# rf = RandomForestClassifier(random_state = 42)\n",
    "\n",
    "# #setup GridSearch\n",
    "# grid_search = GridSearchCV(\n",
    "#     estimator = rf,\n",
    "#     param_grid = param_grid,\n",
    "#     cv = 5,\n",
    "#     n_jobs = -1,\n",
    "#     verbose = 1,\n",
    "#     scoring = \"accuracy\"\n",
    "# )\n",
    "\n",
    "# #fit the grid search\n",
    "# grid_search.fit(X_train, Y_train)\n",
    "\n",
    "# print(f\"Best parameters: {grid_search.best_params_}\")\n",
    "\n",
    "# best_model = grid_search.best_estimator_"
   ]
  },
  {
   "cell_type": "code",
   "execution_count": 19,
   "id": "4e8da910",
   "metadata": {
    "execution": {
     "iopub.execute_input": "2025-05-24T17:31:56.676784Z",
     "iopub.status.busy": "2025-05-24T17:31:56.676463Z",
     "iopub.status.idle": "2025-05-24T17:31:56.680416Z",
     "shell.execute_reply": "2025-05-24T17:31:56.679669Z"
    },
    "papermill": {
     "duration": 0.014425,
     "end_time": "2025-05-24T17:31:56.681726",
     "exception": false,
     "start_time": "2025-05-24T17:31:56.667301",
     "status": "completed"
    },
    "tags": []
   },
   "outputs": [],
   "source": [
    "# #metrics\n",
    "# best_pred = best_model.predict(X_test)\n",
    "\n",
    "# accu = accuracy_score(Y_test, best_pred)\n",
    "# mae = mean_absolute_error(Y_test, best_pred)\n",
    "\n",
    "# print(f\"Accuracy Score : {accu}\")\n",
    "# print(f\"Mean Absolute Error : {mae}\")\n",
    "# print(classification_report(Y_test, best_pred))"
   ]
  },
  {
   "cell_type": "code",
   "execution_count": 20,
   "id": "020a64ca",
   "metadata": {
    "execution": {
     "iopub.execute_input": "2025-05-24T17:31:56.698836Z",
     "iopub.status.busy": "2025-05-24T17:31:56.697945Z",
     "iopub.status.idle": "2025-05-24T17:31:56.702219Z",
     "shell.execute_reply": "2025-05-24T17:31:56.701311Z"
    },
    "papermill": {
     "duration": 0.014125,
     "end_time": "2025-05-24T17:31:56.703689",
     "exception": false,
     "start_time": "2025-05-24T17:31:56.689564",
     "status": "completed"
    },
    "tags": []
   },
   "outputs": [],
   "source": [
    "# #cross validation scores\n",
    "# scores = cross_val_score(best_model, X_train, Y_train, cv = 5)\n",
    "# print(\"Accuracy : \", scores.mean())"
   ]
  },
  {
   "cell_type": "code",
   "execution_count": 21,
   "id": "c1ec801e",
   "metadata": {
    "execution": {
     "iopub.execute_input": "2025-05-24T17:31:56.720955Z",
     "iopub.status.busy": "2025-05-24T17:31:56.720418Z",
     "iopub.status.idle": "2025-05-24T17:31:56.724859Z",
     "shell.execute_reply": "2025-05-24T17:31:56.723943Z"
    },
    "papermill": {
     "duration": 0.014796,
     "end_time": "2025-05-24T17:31:56.726386",
     "exception": false,
     "start_time": "2025-05-24T17:31:56.711590",
     "status": "completed"
    },
    "tags": []
   },
   "outputs": [],
   "source": [
    "# # #tuning tree with Grid SearchCV\n",
    "\n",
    "# #parameter grid\n",
    "# param_grid = {\n",
    "#     'n_estimators' : [10,20,30,40,50,75,100,200],\n",
    "#     'max_depth' : [None, 10,20,30],\n",
    "#     'min_samples_split': [2, 5, 10, 15, 20, 25, 30],\n",
    "#     'min_samples_leaf': [1, 2, 4],\n",
    "#     'max_features': ['sqrt', 'log2', None]\n",
    "# }\n",
    "\n",
    "# rf = RandomForestClassifier(random_state = 42)\n",
    "\n",
    "# #setup GridSearch\n",
    "# grid_search = GridSearchCV(\n",
    "#     estimator = rf,\n",
    "#     param_grid = param_grid,\n",
    "#     cv = 5,\n",
    "#     n_jobs = -1,\n",
    "#     verbose = 1,\n",
    "#     scoring = \"f1\"\n",
    "# )\n",
    "\n",
    "# # #fit the grid search\n",
    "# grid_search.fit(Final_X_features, Y)\n",
    "# # \n",
    "# print(f\"Best parameters: {grid_search.best_params_}\")\n",
    "\n",
    "# final_model = grid_search.best_estimator_"
   ]
  },
  {
   "cell_type": "code",
   "execution_count": 22,
   "id": "e91db452",
   "metadata": {
    "execution": {
     "iopub.execute_input": "2025-05-24T17:31:56.742982Z",
     "iopub.status.busy": "2025-05-24T17:31:56.742678Z",
     "iopub.status.idle": "2025-05-24T17:31:56.750197Z",
     "shell.execute_reply": "2025-05-24T17:31:56.749258Z"
    },
    "papermill": {
     "duration": 0.01775,
     "end_time": "2025-05-24T17:31:56.751719",
     "exception": false,
     "start_time": "2025-05-24T17:31:56.733969",
     "status": "completed"
    },
    "tags": []
   },
   "outputs": [
    {
     "data": {
      "text/plain": [
       "Pclass      0\n",
       "Sex         0\n",
       "Age         0\n",
       "Fare        0\n",
       "Embarked    0\n",
       "dtype: int64"
      ]
     },
     "execution_count": 22,
     "metadata": {},
     "output_type": "execute_result"
    }
   ],
   "source": [
    "testX.isnull().sum()"
   ]
  },
  {
   "cell_type": "code",
   "execution_count": 23,
   "id": "93810997",
   "metadata": {
    "execution": {
     "iopub.execute_input": "2025-05-24T17:31:56.768636Z",
     "iopub.status.busy": "2025-05-24T17:31:56.768346Z",
     "iopub.status.idle": "2025-05-24T17:31:56.825299Z",
     "shell.execute_reply": "2025-05-24T17:31:56.824414Z"
    },
    "papermill": {
     "duration": 0.067258,
     "end_time": "2025-05-24T17:31:56.826980",
     "exception": false,
     "start_time": "2025-05-24T17:31:56.759722",
     "status": "completed"
    },
    "tags": []
   },
   "outputs": [],
   "source": [
    "#final model\n",
    "final_model = RandomForestClassifier(\n",
    "                                n_estimators = 20,\n",
    "                                max_depth = 10,\n",
    "                                max_features = None,\n",
    "                                min_samples_leaf = 2,\n",
    "                                min_samples_split = 5,\n",
    "                                random_state = 42\n",
    "                              )\n",
    "\n",
    "final_model.fit(Final_X_features, Y)\n",
    "\n",
    "final_pred = final_model.predict(testX)"
   ]
  },
  {
   "cell_type": "code",
   "execution_count": 24,
   "id": "fcec7008",
   "metadata": {
    "execution": {
     "iopub.execute_input": "2025-05-24T17:31:56.844522Z",
     "iopub.status.busy": "2025-05-24T17:31:56.844210Z",
     "iopub.status.idle": "2025-05-24T17:31:56.900194Z",
     "shell.execute_reply": "2025-05-24T17:31:56.899102Z"
    },
    "papermill": {
     "duration": 0.066355,
     "end_time": "2025-05-24T17:31:56.901688",
     "exception": false,
     "start_time": "2025-05-24T17:31:56.835333",
     "status": "completed"
    },
    "tags": []
   },
   "outputs": [
    {
     "name": "stdout",
     "output_type": "stream",
     "text": [
      "Accuracy Score: 0.8156424581005587\n"
     ]
    }
   ],
   "source": [
    "test_model = RandomForestClassifier(\n",
    "                                n_estimators = 20,\n",
    "                                max_depth = 10,\n",
    "                                max_features = None,\n",
    "                                min_samples_leaf = 2,\n",
    "                                min_samples_split = 5,\n",
    "                                random_state = 42\n",
    "                              )\n",
    "\n",
    "test_model.fit(X_train, Y_train)\n",
    "\n",
    "pred = test_model.predict(X_test)\n",
    "\n",
    "print(f\"Accuracy Score: {accuracy_score(Y_test, pred)}\")"
   ]
  },
  {
   "cell_type": "code",
   "execution_count": 25,
   "id": "d478073a",
   "metadata": {
    "execution": {
     "iopub.execute_input": "2025-05-24T17:31:56.919306Z",
     "iopub.status.busy": "2025-05-24T17:31:56.918945Z",
     "iopub.status.idle": "2025-05-24T17:31:56.924888Z",
     "shell.execute_reply": "2025-05-24T17:31:56.923911Z"
    },
    "papermill": {
     "duration": 0.01645,
     "end_time": "2025-05-24T17:31:56.926231",
     "exception": false,
     "start_time": "2025-05-24T17:31:56.909781",
     "status": "completed"
    },
    "tags": []
   },
   "outputs": [
    {
     "name": "stdout",
     "output_type": "stream",
     "text": [
      "[0 0 0 0 1 0 0 0 1 0 0 0 1 0 1 1 0 0 1 0 0 1 1 0 1 0 1 0 1 1 0 0 1 0 1 0 0\n",
      " 0 0 0 0 0 0 1 1 0 0 0 1 1 0 0 1 1 1 0 0 0 0 1 0 0 0 1 1 1 1 0 0 1 1 0 0 0\n",
      " 1 0 0 1 0 1 1 0 0 0 0 0 1 1 1 1 0 0 1 0 0 0 1 0 0 0 1 0 0 0 1 0 0 0 0 0 0\n",
      " 1 1 1 1 0 0 1 0 1 1 0 1 0 0 1 0 1 0 0 0 0 0 0 0 0 0 0 0 0 0 1 0 0 1 0 0 0\n",
      " 0 0 1 0 0 0 0 0 1 1 1 1 1 1 1 0 0 0 0 0 1 0 0 0 0 0 0 1 1 0 1 1 0 0 1 0 1\n",
      " 0 1 0 0 0 0 0 1 0 1 0 1 1 0 0 1 1 0 1 0 0 0 0 1 0 0 0 0 1 0 0 1 0 1 0 1 0\n",
      " 1 0 1 0 0 1 0 0 0 1 0 0 0 0 0 0 1 1 1 1 0 0 0 0 1 0 1 0 1 0 0 0 0 0 0 0 1\n",
      " 0 0 0 1 1 0 0 0 0 0 0 0 0 1 1 0 1 0 0 0 0 0 1 1 0 1 0 0 0 0 0 0 0 0 0 0 0\n",
      " 1 1 0 0 0 0 0 0 1 1 0 1 0 0 0 0 0 0 1 1 0 0 0 0 0 0 0 1 1 0 1 0 0 0 1 0 0\n",
      " 1 0 0 0 0 0 0 0 0 0 1 0 1 0 0 0 1 1 0 0 0 1 0 1 0 0 0 0 1 1 0 1 0 0 0 1 0\n",
      " 0 1 0 0 1 1 0 0 0 0 0 0 0 1 0 1 0 0 0 0 0 1 0 0 0 1 0 1 0 0 1 0 1 0 0 1 0\n",
      " 0 1 1 1 1 0 0 1 0 0 1]\n"
     ]
    }
   ],
   "source": [
    "print(final_pred)"
   ]
  },
  {
   "cell_type": "code",
   "execution_count": 26,
   "id": "a1f682a4",
   "metadata": {
    "execution": {
     "iopub.execute_input": "2025-05-24T17:31:56.943402Z",
     "iopub.status.busy": "2025-05-24T17:31:56.942691Z",
     "iopub.status.idle": "2025-05-24T17:31:56.953853Z",
     "shell.execute_reply": "2025-05-24T17:31:56.952853Z"
    },
    "papermill": {
     "duration": 0.021587,
     "end_time": "2025-05-24T17:31:56.955640",
     "exception": false,
     "start_time": "2025-05-24T17:31:56.934053",
     "status": "completed"
    },
    "tags": []
   },
   "outputs": [],
   "source": [
    "#generate the submission\n",
    "output = pd.DataFrame({'PassengerId':testingData.PassengerId, 'Survived': final_pred})\n",
    "\n",
    "output.to_csv('submission.csv', index = False)"
   ]
  },
  {
   "cell_type": "code",
   "execution_count": null,
   "id": "4c530322",
   "metadata": {
    "papermill": {
     "duration": 0.007751,
     "end_time": "2025-05-24T17:31:56.971749",
     "exception": false,
     "start_time": "2025-05-24T17:31:56.963998",
     "status": "completed"
    },
    "tags": []
   },
   "outputs": [],
   "source": []
  }
 ],
 "metadata": {
  "kaggle": {
   "accelerator": "none",
   "dataSources": [
    {
     "databundleVersionId": 26502,
     "sourceId": 3136,
     "sourceType": "competition"
    }
   ],
   "dockerImageVersionId": 31012,
   "isGpuEnabled": false,
   "isInternetEnabled": false,
   "language": "python",
   "sourceType": "notebook"
  },
  "kernelspec": {
   "display_name": "Python 3",
   "language": "python",
   "name": "python3"
  },
  "language_info": {
   "codemirror_mode": {
    "name": "ipython",
    "version": 3
   },
   "file_extension": ".py",
   "mimetype": "text/x-python",
   "name": "python",
   "nbconvert_exporter": "python",
   "pygments_lexer": "ipython3",
   "version": "3.11.11"
  },
  "papermill": {
   "default_parameters": {},
   "duration": 12.812472,
   "end_time": "2025-05-24T17:31:57.800930",
   "environment_variables": {},
   "exception": null,
   "input_path": "__notebook__.ipynb",
   "output_path": "__notebook__.ipynb",
   "parameters": {},
   "start_time": "2025-05-24T17:31:44.988458",
   "version": "2.6.0"
  }
 },
 "nbformat": 4,
 "nbformat_minor": 5
}
