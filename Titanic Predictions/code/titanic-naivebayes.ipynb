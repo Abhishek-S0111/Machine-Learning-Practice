{
 "cells": [
  {
   "cell_type": "code",
   "execution_count": 1,
   "id": "005675f0",
   "metadata": {
    "_cell_guid": "b1076dfc-b9ad-4769-8c92-a6c4dae69d19",
    "_uuid": "8f2839f25d086af736a60e9eeb907d3b93b6e0e5",
    "execution": {
     "iopub.execute_input": "2025-05-16T14:49:56.158228Z",
     "iopub.status.busy": "2025-05-16T14:49:56.157885Z",
     "iopub.status.idle": "2025-05-16T14:49:58.322734Z",
     "shell.execute_reply": "2025-05-16T14:49:58.321484Z"
    },
    "papermill": {
     "duration": 2.17618,
     "end_time": "2025-05-16T14:49:58.324364",
     "exception": false,
     "start_time": "2025-05-16T14:49:56.148184",
     "status": "completed"
    },
    "tags": []
   },
   "outputs": [
    {
     "name": "stdout",
     "output_type": "stream",
     "text": [
      "/kaggle/input/titanic/train.csv\n",
      "/kaggle/input/titanic/test.csv\n",
      "/kaggle/input/titanic/gender_submission.csv\n"
     ]
    }
   ],
   "source": [
    "# This Python 3 environment comes with many helpful analytics libraries installed\n",
    "# It is defined by the kaggle/python Docker image: https://github.com/kaggle/docker-python\n",
    "# For example, here's several helpful packages to load\n",
    "\n",
    "import numpy as np # linear algebra\n",
    "import pandas as pd # data processing, CSV file I/O (e.g. pd.read_csv)\n",
    "\n",
    "# Input data files are available in the read-only \"../input/\" directory\n",
    "# For example, running this (by clicking run or pressing Shift+Enter) will list all files under the input directory\n",
    "\n",
    "import os\n",
    "for dirname, _, filenames in os.walk('/kaggle/input'):\n",
    "    for filename in filenames:\n",
    "        print(os.path.join(dirname, filename))\n",
    "\n",
    "# You can write up to 20GB to the current directory (/kaggle/working/) that gets preserved as output when you create a version using \"Save & Run All\" \n",
    "# You can also write temporary files to /kaggle/temp/, but they won't be saved outside of the current session"
   ]
  },
  {
   "cell_type": "code",
   "execution_count": 2,
   "id": "378b20c9",
   "metadata": {
    "execution": {
     "iopub.execute_input": "2025-05-16T14:49:58.340859Z",
     "iopub.status.busy": "2025-05-16T14:49:58.340395Z",
     "iopub.status.idle": "2025-05-16T14:50:01.151122Z",
     "shell.execute_reply": "2025-05-16T14:50:01.150223Z"
    },
    "papermill": {
     "duration": 2.821209,
     "end_time": "2025-05-16T14:50:01.153225",
     "exception": false,
     "start_time": "2025-05-16T14:49:58.332016",
     "status": "completed"
    },
    "tags": []
   },
   "outputs": [],
   "source": [
    "#import all libraries\n",
    "import seaborn as sns\n",
    "from sklearn.metrics import confusion_matrix, accuracy_score\n",
    "from sklearn.impute import SimpleImputer\n",
    "import matplotlib.pyplot as plt\n",
    "from sklearn.metrics import mean_absolute_error\n",
    "from sklearn.model_selection import train_test_split\n",
    "from sklearn.tree import plot_tree\n",
    "from sklearn.model_selection import GridSearchCV\n",
    "from sklearn.model_selection import cross_val_score\n",
    "from sklearn.preprocessing import LabelEncoder\n",
    "from sklearn.naive_bayes import GaussianNB"
   ]
  },
  {
   "cell_type": "code",
   "execution_count": 3,
   "id": "356c5bc9",
   "metadata": {
    "execution": {
     "iopub.execute_input": "2025-05-16T14:50:01.171758Z",
     "iopub.status.busy": "2025-05-16T14:50:01.171184Z",
     "iopub.status.idle": "2025-05-16T14:50:01.201509Z",
     "shell.execute_reply": "2025-05-16T14:50:01.200391Z"
    },
    "papermill": {
     "duration": 0.042558,
     "end_time": "2025-05-16T14:50:01.203473",
     "exception": false,
     "start_time": "2025-05-16T14:50:01.160915",
     "status": "completed"
    },
    "tags": []
   },
   "outputs": [],
   "source": [
    "#load the datasets\n",
    "trainingData = pd.read_csv(\"/kaggle/input/titanic/train.csv\")"
   ]
  },
  {
   "cell_type": "code",
   "execution_count": 4,
   "id": "9308689f",
   "metadata": {
    "execution": {
     "iopub.execute_input": "2025-05-16T14:50:01.220612Z",
     "iopub.status.busy": "2025-05-16T14:50:01.220102Z",
     "iopub.status.idle": "2025-05-16T14:50:01.250915Z",
     "shell.execute_reply": "2025-05-16T14:50:01.249800Z"
    },
    "papermill": {
     "duration": 0.042315,
     "end_time": "2025-05-16T14:50:01.253008",
     "exception": false,
     "start_time": "2025-05-16T14:50:01.210693",
     "status": "completed"
    },
    "tags": []
   },
   "outputs": [
    {
     "data": {
      "text/html": [
       "<div>\n",
       "<style scoped>\n",
       "    .dataframe tbody tr th:only-of-type {\n",
       "        vertical-align: middle;\n",
       "    }\n",
       "\n",
       "    .dataframe tbody tr th {\n",
       "        vertical-align: top;\n",
       "    }\n",
       "\n",
       "    .dataframe thead th {\n",
       "        text-align: right;\n",
       "    }\n",
       "</style>\n",
       "<table border=\"1\" class=\"dataframe\">\n",
       "  <thead>\n",
       "    <tr style=\"text-align: right;\">\n",
       "      <th></th>\n",
       "      <th>PassengerId</th>\n",
       "      <th>Survived</th>\n",
       "      <th>Pclass</th>\n",
       "      <th>Name</th>\n",
       "      <th>Sex</th>\n",
       "      <th>Age</th>\n",
       "      <th>SibSp</th>\n",
       "      <th>Parch</th>\n",
       "      <th>Ticket</th>\n",
       "      <th>Fare</th>\n",
       "      <th>Cabin</th>\n",
       "      <th>Embarked</th>\n",
       "    </tr>\n",
       "  </thead>\n",
       "  <tbody>\n",
       "    <tr>\n",
       "      <th>0</th>\n",
       "      <td>1</td>\n",
       "      <td>0</td>\n",
       "      <td>3</td>\n",
       "      <td>Braund, Mr. Owen Harris</td>\n",
       "      <td>male</td>\n",
       "      <td>22.0</td>\n",
       "      <td>1</td>\n",
       "      <td>0</td>\n",
       "      <td>A/5 21171</td>\n",
       "      <td>7.2500</td>\n",
       "      <td>NaN</td>\n",
       "      <td>S</td>\n",
       "    </tr>\n",
       "    <tr>\n",
       "      <th>1</th>\n",
       "      <td>2</td>\n",
       "      <td>1</td>\n",
       "      <td>1</td>\n",
       "      <td>Cumings, Mrs. John Bradley (Florence Briggs Th...</td>\n",
       "      <td>female</td>\n",
       "      <td>38.0</td>\n",
       "      <td>1</td>\n",
       "      <td>0</td>\n",
       "      <td>PC 17599</td>\n",
       "      <td>71.2833</td>\n",
       "      <td>C85</td>\n",
       "      <td>C</td>\n",
       "    </tr>\n",
       "    <tr>\n",
       "      <th>2</th>\n",
       "      <td>3</td>\n",
       "      <td>1</td>\n",
       "      <td>3</td>\n",
       "      <td>Heikkinen, Miss. Laina</td>\n",
       "      <td>female</td>\n",
       "      <td>26.0</td>\n",
       "      <td>0</td>\n",
       "      <td>0</td>\n",
       "      <td>STON/O2. 3101282</td>\n",
       "      <td>7.9250</td>\n",
       "      <td>NaN</td>\n",
       "      <td>S</td>\n",
       "    </tr>\n",
       "    <tr>\n",
       "      <th>3</th>\n",
       "      <td>4</td>\n",
       "      <td>1</td>\n",
       "      <td>1</td>\n",
       "      <td>Futrelle, Mrs. Jacques Heath (Lily May Peel)</td>\n",
       "      <td>female</td>\n",
       "      <td>35.0</td>\n",
       "      <td>1</td>\n",
       "      <td>0</td>\n",
       "      <td>113803</td>\n",
       "      <td>53.1000</td>\n",
       "      <td>C123</td>\n",
       "      <td>S</td>\n",
       "    </tr>\n",
       "    <tr>\n",
       "      <th>4</th>\n",
       "      <td>5</td>\n",
       "      <td>0</td>\n",
       "      <td>3</td>\n",
       "      <td>Allen, Mr. William Henry</td>\n",
       "      <td>male</td>\n",
       "      <td>35.0</td>\n",
       "      <td>0</td>\n",
       "      <td>0</td>\n",
       "      <td>373450</td>\n",
       "      <td>8.0500</td>\n",
       "      <td>NaN</td>\n",
       "      <td>S</td>\n",
       "    </tr>\n",
       "  </tbody>\n",
       "</table>\n",
       "</div>"
      ],
      "text/plain": [
       "   PassengerId  Survived  Pclass  \\\n",
       "0            1         0       3   \n",
       "1            2         1       1   \n",
       "2            3         1       3   \n",
       "3            4         1       1   \n",
       "4            5         0       3   \n",
       "\n",
       "                                                Name     Sex   Age  SibSp  \\\n",
       "0                            Braund, Mr. Owen Harris    male  22.0      1   \n",
       "1  Cumings, Mrs. John Bradley (Florence Briggs Th...  female  38.0      1   \n",
       "2                             Heikkinen, Miss. Laina  female  26.0      0   \n",
       "3       Futrelle, Mrs. Jacques Heath (Lily May Peel)  female  35.0      1   \n",
       "4                           Allen, Mr. William Henry    male  35.0      0   \n",
       "\n",
       "   Parch            Ticket     Fare Cabin Embarked  \n",
       "0      0         A/5 21171   7.2500   NaN        S  \n",
       "1      0          PC 17599  71.2833   C85        C  \n",
       "2      0  STON/O2. 3101282   7.9250   NaN        S  \n",
       "3      0            113803  53.1000  C123        S  \n",
       "4      0            373450   8.0500   NaN        S  "
      ]
     },
     "execution_count": 4,
     "metadata": {},
     "output_type": "execute_result"
    }
   ],
   "source": [
    "# viewing the data sample\n",
    "trainingData.head()"
   ]
  },
  {
   "cell_type": "code",
   "execution_count": 5,
   "id": "e0c77000",
   "metadata": {
    "execution": {
     "iopub.execute_input": "2025-05-16T14:50:01.271208Z",
     "iopub.status.busy": "2025-05-16T14:50:01.270846Z",
     "iopub.status.idle": "2025-05-16T14:50:01.312239Z",
     "shell.execute_reply": "2025-05-16T14:50:01.310784Z"
    },
    "papermill": {
     "duration": 0.052351,
     "end_time": "2025-05-16T14:50:01.314122",
     "exception": false,
     "start_time": "2025-05-16T14:50:01.261771",
     "status": "completed"
    },
    "tags": []
   },
   "outputs": [
    {
     "name": "stdout",
     "output_type": "stream",
     "text": [
      "<class 'pandas.core.frame.DataFrame'>\n",
      "RangeIndex: 891 entries, 0 to 890\n",
      "Data columns (total 12 columns):\n",
      " #   Column       Non-Null Count  Dtype  \n",
      "---  ------       --------------  -----  \n",
      " 0   PassengerId  891 non-null    int64  \n",
      " 1   Survived     891 non-null    int64  \n",
      " 2   Pclass       891 non-null    int64  \n",
      " 3   Name         891 non-null    object \n",
      " 4   Sex          891 non-null    object \n",
      " 5   Age          714 non-null    float64\n",
      " 6   SibSp        891 non-null    int64  \n",
      " 7   Parch        891 non-null    int64  \n",
      " 8   Ticket       891 non-null    object \n",
      " 9   Fare         891 non-null    float64\n",
      " 10  Cabin        204 non-null    object \n",
      " 11  Embarked     891 non-null    object \n",
      "dtypes: float64(2), int64(5), object(5)\n",
      "memory usage: 83.7+ KB\n"
     ]
    }
   ],
   "source": [
    "#impute all available columns except useless ones\n",
    "#imp = [Sex, \n",
    "#       Age(due to missing vals),\n",
    "#       Embarked(first fill missing with 'C')]\n",
    "\n",
    "##for now only 'Embarked'\n",
    "label_encoder = LabelEncoder()\n",
    "\n",
    "trainingData['Embarked'] = trainingData['Embarked'].fillna('C')\n",
    "\n",
    "trainingData.isnull().sum()\n",
    "trainingData.info()\n",
    "\n",
    "trainingData['Embarked'] = label_encoder.fit_transform(trainingData['Embarked'])"
   ]
  },
  {
   "cell_type": "code",
   "execution_count": 6,
   "id": "7a1d7d0f",
   "metadata": {
    "execution": {
     "iopub.execute_input": "2025-05-16T14:50:01.332409Z",
     "iopub.status.busy": "2025-05-16T14:50:01.332054Z",
     "iopub.status.idle": "2025-05-16T14:50:01.350619Z",
     "shell.execute_reply": "2025-05-16T14:50:01.349134Z"
    },
    "papermill": {
     "duration": 0.02935,
     "end_time": "2025-05-16T14:50:01.352357",
     "exception": false,
     "start_time": "2025-05-16T14:50:01.323007",
     "status": "completed"
    },
    "tags": []
   },
   "outputs": [
    {
     "data": {
      "text/html": [
       "<div>\n",
       "<style scoped>\n",
       "    .dataframe tbody tr th:only-of-type {\n",
       "        vertical-align: middle;\n",
       "    }\n",
       "\n",
       "    .dataframe tbody tr th {\n",
       "        vertical-align: top;\n",
       "    }\n",
       "\n",
       "    .dataframe thead th {\n",
       "        text-align: right;\n",
       "    }\n",
       "</style>\n",
       "<table border=\"1\" class=\"dataframe\">\n",
       "  <thead>\n",
       "    <tr style=\"text-align: right;\">\n",
       "      <th></th>\n",
       "      <th>Survived</th>\n",
       "      <th>Pclass</th>\n",
       "      <th>Sex</th>\n",
       "      <th>Age</th>\n",
       "      <th>SibSp</th>\n",
       "      <th>Parch</th>\n",
       "      <th>Fare</th>\n",
       "      <th>Embarked</th>\n",
       "    </tr>\n",
       "  </thead>\n",
       "  <tbody>\n",
       "    <tr>\n",
       "      <th>0</th>\n",
       "      <td>0</td>\n",
       "      <td>3</td>\n",
       "      <td>male</td>\n",
       "      <td>22.0</td>\n",
       "      <td>1</td>\n",
       "      <td>0</td>\n",
       "      <td>7.2500</td>\n",
       "      <td>2</td>\n",
       "    </tr>\n",
       "    <tr>\n",
       "      <th>1</th>\n",
       "      <td>1</td>\n",
       "      <td>1</td>\n",
       "      <td>female</td>\n",
       "      <td>38.0</td>\n",
       "      <td>1</td>\n",
       "      <td>0</td>\n",
       "      <td>71.2833</td>\n",
       "      <td>0</td>\n",
       "    </tr>\n",
       "    <tr>\n",
       "      <th>2</th>\n",
       "      <td>1</td>\n",
       "      <td>3</td>\n",
       "      <td>female</td>\n",
       "      <td>26.0</td>\n",
       "      <td>0</td>\n",
       "      <td>0</td>\n",
       "      <td>7.9250</td>\n",
       "      <td>2</td>\n",
       "    </tr>\n",
       "    <tr>\n",
       "      <th>3</th>\n",
       "      <td>1</td>\n",
       "      <td>1</td>\n",
       "      <td>female</td>\n",
       "      <td>35.0</td>\n",
       "      <td>1</td>\n",
       "      <td>0</td>\n",
       "      <td>53.1000</td>\n",
       "      <td>2</td>\n",
       "    </tr>\n",
       "    <tr>\n",
       "      <th>4</th>\n",
       "      <td>0</td>\n",
       "      <td>3</td>\n",
       "      <td>male</td>\n",
       "      <td>35.0</td>\n",
       "      <td>0</td>\n",
       "      <td>0</td>\n",
       "      <td>8.0500</td>\n",
       "      <td>2</td>\n",
       "    </tr>\n",
       "  </tbody>\n",
       "</table>\n",
       "</div>"
      ],
      "text/plain": [
       "   Survived  Pclass     Sex   Age  SibSp  Parch     Fare  Embarked\n",
       "0         0       3    male  22.0      1      0   7.2500         2\n",
       "1         1       1  female  38.0      1      0  71.2833         0\n",
       "2         1       3  female  26.0      0      0   7.9250         2\n",
       "3         1       1  female  35.0      1      0  53.1000         2\n",
       "4         0       3    male  35.0      0      0   8.0500         2"
      ]
     },
     "execution_count": 6,
     "metadata": {},
     "output_type": "execute_result"
    }
   ],
   "source": [
    "# show all columns\n",
    "\n",
    "X = ['Survived', 'Pclass', 'Sex','Age', 'SibSp',\n",
    "       'Parch', 'Fare', 'Embarked']\n",
    "\n",
    "X_features = trainingData[X]\n",
    "\n",
    "X_features.head()"
   ]
  },
  {
   "cell_type": "code",
   "execution_count": 7,
   "id": "1a27682c",
   "metadata": {
    "execution": {
     "iopub.execute_input": "2025-05-16T14:50:01.369435Z",
     "iopub.status.busy": "2025-05-16T14:50:01.369074Z",
     "iopub.status.idle": "2025-05-16T14:50:01.394008Z",
     "shell.execute_reply": "2025-05-16T14:50:01.392593Z"
    },
    "papermill": {
     "duration": 0.035956,
     "end_time": "2025-05-16T14:50:01.395980",
     "exception": false,
     "start_time": "2025-05-16T14:50:01.360024",
     "status": "completed"
    },
    "tags": []
   },
   "outputs": [
    {
     "name": "stderr",
     "output_type": "stream",
     "text": [
      "/tmp/ipykernel_13/2717463761.py:2: SettingWithCopyWarning: \n",
      "A value is trying to be set on a copy of a slice from a DataFrame.\n",
      "Try using .loc[row_indexer,col_indexer] = value instead\n",
      "\n",
      "See the caveats in the documentation: https://pandas.pydata.org/pandas-docs/stable/user_guide/indexing.html#returning-a-view-versus-a-copy\n",
      "  X_features['Sex'] = pd.get_dummies(X_features['Sex'], drop_first = True)\n",
      "/usr/local/lib/python3.11/dist-packages/pandas/io/formats/format.py:1458: RuntimeWarning: invalid value encountered in greater\n",
      "  has_large_values = (abs_vals > 1e6).any()\n",
      "/usr/local/lib/python3.11/dist-packages/pandas/io/formats/format.py:1459: RuntimeWarning: invalid value encountered in less\n",
      "  has_small_values = ((abs_vals < 10 ** (-self.digits)) & (abs_vals > 0)).any()\n",
      "/usr/local/lib/python3.11/dist-packages/pandas/io/formats/format.py:1459: RuntimeWarning: invalid value encountered in greater\n",
      "  has_small_values = ((abs_vals < 10 ** (-self.digits)) & (abs_vals > 0)).any()\n"
     ]
    },
    {
     "data": {
      "text/html": [
       "<div>\n",
       "<style scoped>\n",
       "    .dataframe tbody tr th:only-of-type {\n",
       "        vertical-align: middle;\n",
       "    }\n",
       "\n",
       "    .dataframe tbody tr th {\n",
       "        vertical-align: top;\n",
       "    }\n",
       "\n",
       "    .dataframe thead th {\n",
       "        text-align: right;\n",
       "    }\n",
       "</style>\n",
       "<table border=\"1\" class=\"dataframe\">\n",
       "  <thead>\n",
       "    <tr style=\"text-align: right;\">\n",
       "      <th></th>\n",
       "      <th>Survived</th>\n",
       "      <th>Pclass</th>\n",
       "      <th>Sex</th>\n",
       "      <th>Age</th>\n",
       "      <th>SibSp</th>\n",
       "      <th>Parch</th>\n",
       "      <th>Fare</th>\n",
       "      <th>Embarked</th>\n",
       "    </tr>\n",
       "  </thead>\n",
       "  <tbody>\n",
       "    <tr>\n",
       "      <th>0</th>\n",
       "      <td>0</td>\n",
       "      <td>3</td>\n",
       "      <td>True</td>\n",
       "      <td>22.0</td>\n",
       "      <td>1</td>\n",
       "      <td>0</td>\n",
       "      <td>7.2500</td>\n",
       "      <td>2</td>\n",
       "    </tr>\n",
       "    <tr>\n",
       "      <th>1</th>\n",
       "      <td>1</td>\n",
       "      <td>1</td>\n",
       "      <td>False</td>\n",
       "      <td>38.0</td>\n",
       "      <td>1</td>\n",
       "      <td>0</td>\n",
       "      <td>71.2833</td>\n",
       "      <td>0</td>\n",
       "    </tr>\n",
       "    <tr>\n",
       "      <th>2</th>\n",
       "      <td>1</td>\n",
       "      <td>3</td>\n",
       "      <td>False</td>\n",
       "      <td>26.0</td>\n",
       "      <td>0</td>\n",
       "      <td>0</td>\n",
       "      <td>7.9250</td>\n",
       "      <td>2</td>\n",
       "    </tr>\n",
       "    <tr>\n",
       "      <th>3</th>\n",
       "      <td>1</td>\n",
       "      <td>1</td>\n",
       "      <td>False</td>\n",
       "      <td>35.0</td>\n",
       "      <td>1</td>\n",
       "      <td>0</td>\n",
       "      <td>53.1000</td>\n",
       "      <td>2</td>\n",
       "    </tr>\n",
       "    <tr>\n",
       "      <th>4</th>\n",
       "      <td>0</td>\n",
       "      <td>3</td>\n",
       "      <td>True</td>\n",
       "      <td>35.0</td>\n",
       "      <td>0</td>\n",
       "      <td>0</td>\n",
       "      <td>8.0500</td>\n",
       "      <td>2</td>\n",
       "    </tr>\n",
       "    <tr>\n",
       "      <th>...</th>\n",
       "      <td>...</td>\n",
       "      <td>...</td>\n",
       "      <td>...</td>\n",
       "      <td>...</td>\n",
       "      <td>...</td>\n",
       "      <td>...</td>\n",
       "      <td>...</td>\n",
       "      <td>...</td>\n",
       "    </tr>\n",
       "    <tr>\n",
       "      <th>886</th>\n",
       "      <td>0</td>\n",
       "      <td>2</td>\n",
       "      <td>True</td>\n",
       "      <td>27.0</td>\n",
       "      <td>0</td>\n",
       "      <td>0</td>\n",
       "      <td>13.0000</td>\n",
       "      <td>2</td>\n",
       "    </tr>\n",
       "    <tr>\n",
       "      <th>887</th>\n",
       "      <td>1</td>\n",
       "      <td>1</td>\n",
       "      <td>False</td>\n",
       "      <td>19.0</td>\n",
       "      <td>0</td>\n",
       "      <td>0</td>\n",
       "      <td>30.0000</td>\n",
       "      <td>2</td>\n",
       "    </tr>\n",
       "    <tr>\n",
       "      <th>888</th>\n",
       "      <td>0</td>\n",
       "      <td>3</td>\n",
       "      <td>False</td>\n",
       "      <td>NaN</td>\n",
       "      <td>1</td>\n",
       "      <td>2</td>\n",
       "      <td>23.4500</td>\n",
       "      <td>2</td>\n",
       "    </tr>\n",
       "    <tr>\n",
       "      <th>889</th>\n",
       "      <td>1</td>\n",
       "      <td>1</td>\n",
       "      <td>True</td>\n",
       "      <td>26.0</td>\n",
       "      <td>0</td>\n",
       "      <td>0</td>\n",
       "      <td>30.0000</td>\n",
       "      <td>0</td>\n",
       "    </tr>\n",
       "    <tr>\n",
       "      <th>890</th>\n",
       "      <td>0</td>\n",
       "      <td>3</td>\n",
       "      <td>True</td>\n",
       "      <td>32.0</td>\n",
       "      <td>0</td>\n",
       "      <td>0</td>\n",
       "      <td>7.7500</td>\n",
       "      <td>1</td>\n",
       "    </tr>\n",
       "  </tbody>\n",
       "</table>\n",
       "<p>891 rows × 8 columns</p>\n",
       "</div>"
      ],
      "text/plain": [
       "     Survived  Pclass    Sex   Age  SibSp  Parch     Fare  Embarked\n",
       "0           0       3   True  22.0      1      0   7.2500         2\n",
       "1           1       1  False  38.0      1      0  71.2833         0\n",
       "2           1       3  False  26.0      0      0   7.9250         2\n",
       "3           1       1  False  35.0      1      0  53.1000         2\n",
       "4           0       3   True  35.0      0      0   8.0500         2\n",
       "..        ...     ...    ...   ...    ...    ...      ...       ...\n",
       "886         0       2   True  27.0      0      0  13.0000         2\n",
       "887         1       1  False  19.0      0      0  30.0000         2\n",
       "888         0       3  False   NaN      1      2  23.4500         2\n",
       "889         1       1   True  26.0      0      0  30.0000         0\n",
       "890         0       3   True  32.0      0      0   7.7500         1\n",
       "\n",
       "[891 rows x 8 columns]"
      ]
     },
     "execution_count": 7,
     "metadata": {},
     "output_type": "execute_result"
    }
   ],
   "source": [
    "#encode the categorical Data 'Sex'\n",
    "X_features['Sex'] = pd.get_dummies(X_features['Sex'], drop_first = True)\n",
    "\n",
    "#rename the dataset\n",
    "X_features"
   ]
  },
  {
   "cell_type": "code",
   "execution_count": 8,
   "id": "bdd88b97",
   "metadata": {
    "execution": {
     "iopub.execute_input": "2025-05-16T14:50:01.414474Z",
     "iopub.status.busy": "2025-05-16T14:50:01.414124Z",
     "iopub.status.idle": "2025-05-16T14:50:01.994166Z",
     "shell.execute_reply": "2025-05-16T14:50:01.993005Z"
    },
    "papermill": {
     "duration": 0.591937,
     "end_time": "2025-05-16T14:50:01.996554",
     "exception": false,
     "start_time": "2025-05-16T14:50:01.404617",
     "status": "completed"
    },
    "tags": []
   },
   "outputs": [
    {
     "data": {
      "text/plain": [
       "Text(0.5, 1.0, 'Correlation Heatmap')"
      ]
     },
     "execution_count": 8,
     "metadata": {},
     "output_type": "execute_result"
    },
    {
     "data": {
      "image/png": "[encoded data removed]",
      "text/plain": [
       "<Figure size 640x480 with 2 Axes>"
      ]
     },
     "metadata": {},
     "output_type": "display_data"
    }
   ],
   "source": [
    "#correlation heatmap\n",
    "heatmap =  sns.heatmap(X_features.corr(), cmap = \"Blues\", annot = True)\n",
    "heatmap.set_title(\"Correlation Heatmap\", fontdict={'fontsize':20})"
   ]
  },
  {
   "cell_type": "code",
   "execution_count": 9,
   "id": "2944b816",
   "metadata": {
    "execution": {
     "iopub.execute_input": "2025-05-16T14:50:02.017548Z",
     "iopub.status.busy": "2025-05-16T14:50:02.017177Z",
     "iopub.status.idle": "2025-05-16T14:50:02.024469Z",
     "shell.execute_reply": "2025-05-16T14:50:02.023403Z"
    },
    "papermill": {
     "duration": 0.019724,
     "end_time": "2025-05-16T14:50:02.025990",
     "exception": false,
     "start_time": "2025-05-16T14:50:02.006266",
     "status": "completed"
    },
    "tags": []
   },
   "outputs": [],
   "source": [
    "#feature selection\n",
    "#First: Let the Dtree select by itself\n",
    "#Second : ['Age','Sex','Fare']\n",
    "\n",
    "Final_X = ['Pclass', 'Sex','Age', 'SibSp','Parch', 'Fare', 'Embarked']\n",
    "Final_X_features = X_features[Final_X]\n",
    "Y = trainingData['Survived']"
   ]
  },
  {
   "cell_type": "code",
   "execution_count": 10,
   "id": "2ce3a298",
   "metadata": {
    "execution": {
     "iopub.execute_input": "2025-05-16T14:50:02.048635Z",
     "iopub.status.busy": "2025-05-16T14:50:02.048213Z",
     "iopub.status.idle": "2025-05-16T14:50:02.064935Z",
     "shell.execute_reply": "2025-05-16T14:50:02.063665Z"
    },
    "papermill": {
     "duration": 0.030764,
     "end_time": "2025-05-16T14:50:02.066827",
     "exception": false,
     "start_time": "2025-05-16T14:50:02.036063",
     "status": "completed"
    },
    "tags": []
   },
   "outputs": [
    {
     "data": {
      "text/plain": [
       "Pclass       0\n",
       "Sex          0\n",
       "Age         86\n",
       "SibSp        0\n",
       "Parch        0\n",
       "Fare         1\n",
       "Embarked     0\n",
       "dtype: int64"
      ]
     },
     "execution_count": 10,
     "metadata": {},
     "output_type": "execute_result"
    }
   ],
   "source": [
    "#load the test Data\n",
    "testingData = pd.read_csv(\"/kaggle/input/titanic/test.csv\")\n",
    "testX_features = ['Pclass', 'Sex','Age', 'SibSp', 'Parch', 'Fare', 'Embarked']\n",
    "testX = testingData[testX_features]\n",
    "testX.isnull().sum()"
   ]
  },
  {
   "cell_type": "code",
   "execution_count": 11,
   "id": "41182ab9",
   "metadata": {
    "execution": {
     "iopub.execute_input": "2025-05-16T14:50:02.088319Z",
     "iopub.status.busy": "2025-05-16T14:50:02.088007Z",
     "iopub.status.idle": "2025-05-16T14:50:02.097596Z",
     "shell.execute_reply": "2025-05-16T14:50:02.096346Z"
    },
    "papermill": {
     "duration": 0.022114,
     "end_time": "2025-05-16T14:50:02.099321",
     "exception": false,
     "start_time": "2025-05-16T14:50:02.077207",
     "status": "completed"
    },
    "tags": []
   },
   "outputs": [
    {
     "data": {
      "text/plain": [
       "Pclass        0\n",
       "Sex           0\n",
       "Age         177\n",
       "SibSp         0\n",
       "Parch         0\n",
       "Fare          0\n",
       "Embarked      0\n",
       "dtype: int64"
      ]
     },
     "execution_count": 11,
     "metadata": {},
     "output_type": "execute_result"
    }
   ],
   "source": [
    "Final_X_features.isnull().sum()"
   ]
  },
  {
   "cell_type": "code",
   "execution_count": 12,
   "id": "fe9bf6aa",
   "metadata": {
    "execution": {
     "iopub.execute_input": "2025-05-16T14:50:02.122694Z",
     "iopub.status.busy": "2025-05-16T14:50:02.122325Z",
     "iopub.status.idle": "2025-05-16T14:50:02.155821Z",
     "shell.execute_reply": "2025-05-16T14:50:02.153845Z"
    },
    "papermill": {
     "duration": 0.048387,
     "end_time": "2025-05-16T14:50:02.158425",
     "exception": false,
     "start_time": "2025-05-16T14:50:02.110038",
     "status": "completed"
    },
    "tags": []
   },
   "outputs": [
    {
     "name": "stderr",
     "output_type": "stream",
     "text": [
      "/tmp/ipykernel_13/2478636943.py:7: SettingWithCopyWarning: \n",
      "A value is trying to be set on a copy of a slice from a DataFrame.\n",
      "Try using .loc[row_indexer,col_indexer] = value instead\n",
      "\n",
      "See the caveats in the documentation: https://pandas.pydata.org/pandas-docs/stable/user_guide/indexing.html#returning-a-view-versus-a-copy\n",
      "  Final_X_features['Age'] = med_imputer.fit_transform(Final_X_features[['Age']])\n",
      "/tmp/ipykernel_13/2478636943.py:8: SettingWithCopyWarning: \n",
      "A value is trying to be set on a copy of a slice from a DataFrame.\n",
      "Try using .loc[row_indexer,col_indexer] = value instead\n",
      "\n",
      "See the caveats in the documentation: https://pandas.pydata.org/pandas-docs/stable/user_guide/indexing.html#returning-a-view-versus-a-copy\n",
      "  testX['Age'] = imputer.fit_transform(testX[['Age']])\n",
      "/tmp/ipykernel_13/2478636943.py:11: SettingWithCopyWarning: \n",
      "A value is trying to be set on a copy of a slice from a DataFrame.\n",
      "Try using .loc[row_indexer,col_indexer] = value instead\n",
      "\n",
      "See the caveats in the documentation: https://pandas.pydata.org/pandas-docs/stable/user_guide/indexing.html#returning-a-view-versus-a-copy\n",
      "  testX['Fare'] = med_imputer.fit_transform(testX[['Fare']])\n",
      "/tmp/ipykernel_13/2478636943.py:14: SettingWithCopyWarning: \n",
      "A value is trying to be set on a copy of a slice from a DataFrame.\n",
      "Try using .loc[row_indexer,col_indexer] = value instead\n",
      "\n",
      "See the caveats in the documentation: https://pandas.pydata.org/pandas-docs/stable/user_guide/indexing.html#returning-a-view-versus-a-copy\n",
      "  testX['Sex'] = pd.get_dummies(testX['Sex'], drop_first = True)\n",
      "/tmp/ipykernel_13/2478636943.py:17: SettingWithCopyWarning: \n",
      "A value is trying to be set on a copy of a slice from a DataFrame.\n",
      "Try using .loc[row_indexer,col_indexer] = value instead\n",
      "\n",
      "See the caveats in the documentation: https://pandas.pydata.org/pandas-docs/stable/user_guide/indexing.html#returning-a-view-versus-a-copy\n",
      "  testX['Embarked'] = label_encoder.fit_transform(testX['Embarked'])\n"
     ]
    }
   ],
   "source": [
    "#impute both datasets\n",
    "\n",
    "#Age\n",
    "imputer = SimpleImputer(strategy='constant', fill_value = 0)\n",
    "med_imputer = SimpleImputer(strategy = 'median')\n",
    "\n",
    "Final_X_features['Age'] = med_imputer.fit_transform(Final_X_features[['Age']])\n",
    "testX['Age'] = imputer.fit_transform(testX[['Age']])\n",
    "\n",
    "#Fare\n",
    "testX['Fare'] = med_imputer.fit_transform(testX[['Fare']])\n",
    "\n",
    "#Sex\n",
    "testX['Sex'] = pd.get_dummies(testX['Sex'], drop_first = True)\n",
    "\n",
    "#Embarked\n",
    "testX['Embarked'] = label_encoder.fit_transform(testX['Embarked'])"
   ]
  },
  {
   "cell_type": "code",
   "execution_count": 13,
   "id": "89eda623",
   "metadata": {
    "execution": {
     "iopub.execute_input": "2025-05-16T14:50:02.183442Z",
     "iopub.status.busy": "2025-05-16T14:50:02.183077Z",
     "iopub.status.idle": "2025-05-16T14:50:02.195752Z",
     "shell.execute_reply": "2025-05-16T14:50:02.194650Z"
    },
    "papermill": {
     "duration": 0.025203,
     "end_time": "2025-05-16T14:50:02.197292",
     "exception": false,
     "start_time": "2025-05-16T14:50:02.172089",
     "status": "completed"
    },
    "tags": []
   },
   "outputs": [
    {
     "data": {
      "text/plain": [
       "count    891.000000\n",
       "mean      29.361582\n",
       "std       13.019697\n",
       "min        0.420000\n",
       "25%       22.000000\n",
       "50%       28.000000\n",
       "75%       35.000000\n",
       "max       80.000000\n",
       "Name: Age, dtype: float64"
      ]
     },
     "execution_count": 13,
     "metadata": {},
     "output_type": "execute_result"
    }
   ],
   "source": [
    "Final_X_features['Age'].describe()"
   ]
  },
  {
   "cell_type": "code",
   "execution_count": null,
   "id": "b21b781c",
   "metadata": {
    "papermill": {
     "duration": 0.009573,
     "end_time": "2025-05-16T14:50:02.216984",
     "exception": false,
     "start_time": "2025-05-16T14:50:02.207411",
     "status": "completed"
    },
    "tags": []
   },
   "outputs": [],
   "source": []
  },
  {
   "cell_type": "code",
   "execution_count": 14,
   "id": "1349e5b5",
   "metadata": {
    "execution": {
     "iopub.execute_input": "2025-05-16T14:50:02.239052Z",
     "iopub.status.busy": "2025-05-16T14:50:02.238705Z",
     "iopub.status.idle": "2025-05-16T14:50:02.249676Z",
     "shell.execute_reply": "2025-05-16T14:50:02.248145Z"
    },
    "papermill": {
     "duration": 0.024672,
     "end_time": "2025-05-16T14:50:02.251913",
     "exception": false,
     "start_time": "2025-05-16T14:50:02.227241",
     "status": "completed"
    },
    "tags": []
   },
   "outputs": [],
   "source": [
    "#Split the dataset\n",
    "X_train, X_test, Y_train, Y_test = train_test_split(Final_X_features,\n",
    "                                                   Y,\n",
    "                                                   test_size = 0.3, \n",
    "                                                   random_state = 42)"
   ]
  },
  {
   "cell_type": "code",
   "execution_count": 15,
   "id": "c08cde47",
   "metadata": {
    "execution": {
     "iopub.execute_input": "2025-05-16T14:50:02.275900Z",
     "iopub.status.busy": "2025-05-16T14:50:02.275045Z",
     "iopub.status.idle": "2025-05-16T14:50:02.506876Z",
     "shell.execute_reply": "2025-05-16T14:50:02.505867Z"
    },
    "papermill": {
     "duration": 0.246206,
     "end_time": "2025-05-16T14:50:02.508604",
     "exception": false,
     "start_time": "2025-05-16T14:50:02.262398",
     "status": "completed"
    },
    "tags": []
   },
   "outputs": [
    {
     "data": {
      "image/png": "[encoded data removed]",
      "text/plain": [
       "<Figure size 640x480 with 1 Axes>"
      ]
     },
     "metadata": {},
     "output_type": "display_data"
    }
   ],
   "source": [
    "#Scatterplot for Final_X_features\n",
    "sns.scatterplot(data = Final_X_features, x = 'Age', y = 'Fare')\n",
    "plt.title(\"Scatterplot for Final_X_features\")\n",
    "plt.show()"
   ]
  },
  {
   "cell_type": "code",
   "execution_count": 16,
   "id": "f5e37329",
   "metadata": {
    "execution": {
     "iopub.execute_input": "2025-05-16T14:50:02.533148Z",
     "iopub.status.busy": "2025-05-16T14:50:02.532799Z",
     "iopub.status.idle": "2025-05-16T14:50:02.557103Z",
     "shell.execute_reply": "2025-05-16T14:50:02.555821Z"
    },
    "papermill": {
     "duration": 0.039196,
     "end_time": "2025-05-16T14:50:02.559219",
     "exception": false,
     "start_time": "2025-05-16T14:50:02.520023",
     "status": "completed"
    },
    "tags": []
   },
   "outputs": [
    {
     "name": "stdout",
     "output_type": "stream",
     "text": [
      "Accuracy Score: 0.7985074626865671\n"
     ]
    }
   ],
   "source": [
    "#train a preliminary model\n",
    "pre_model = GaussianNB()\n",
    "\n",
    "pre_model.fit(X_train, Y_train)\n",
    "\n",
    "pre_preds = pre_model.predict(X_test)\n",
    "\n",
    "print(f\"Accuracy Score: {accuracy_score(Y_test, pre_preds)}\")"
   ]
  },
  {
   "cell_type": "code",
   "execution_count": 17,
   "id": "6ea16dde",
   "metadata": {
    "execution": {
     "iopub.execute_input": "2025-05-16T14:50:02.664179Z",
     "iopub.status.busy": "2025-05-16T14:50:02.663823Z",
     "iopub.status.idle": "2025-05-16T14:50:02.871184Z",
     "shell.execute_reply": "2025-05-16T14:50:02.869560Z"
    },
    "papermill": {
     "duration": 0.300833,
     "end_time": "2025-05-16T14:50:02.873143",
     "exception": false,
     "start_time": "2025-05-16T14:50:02.572310",
     "status": "completed"
    },
    "tags": []
   },
   "outputs": [
    {
     "name": "stdout",
     "output_type": "stream",
     "text": [
      "Best params: {'var_smoothing': 1e-07}\n"
     ]
    }
   ],
   "source": [
    "#best hyperparams \n",
    "\n",
    "model = GaussianNB()\n",
    "\n",
    "param_grid = {\n",
    "    'var_smoothing': [1e-9, 1e-8, 1e-7, 1e-6, 1e-5]\n",
    "}\n",
    "\n",
    "grid_search = GridSearchCV(model, param_grid, cv=5)\n",
    "grid_search.fit(Final_X_features, Y)\n",
    "\n",
    "print(\"Best params:\", grid_search.best_params_)"
   ]
  },
  {
   "cell_type": "code",
   "execution_count": null,
   "id": "9bdaea2b",
   "metadata": {
    "papermill": {
     "duration": 0.0109,
     "end_time": "2025-05-16T14:50:02.894937",
     "exception": false,
     "start_time": "2025-05-16T14:50:02.884037",
     "status": "completed"
    },
    "tags": []
   },
   "outputs": [],
   "source": []
  },
  {
   "cell_type": "code",
   "execution_count": 18,
   "id": "522640ad",
   "metadata": {
    "execution": {
     "iopub.execute_input": "2025-05-16T14:50:02.923222Z",
     "iopub.status.busy": "2025-05-16T14:50:02.921269Z",
     "iopub.status.idle": "2025-05-16T14:50:02.938442Z",
     "shell.execute_reply": "2025-05-16T14:50:02.936556Z"
    },
    "papermill": {
     "duration": 0.033226,
     "end_time": "2025-05-16T14:50:02.940832",
     "exception": false,
     "start_time": "2025-05-16T14:50:02.907606",
     "status": "completed"
    },
    "tags": []
   },
   "outputs": [
    {
     "name": "stdout",
     "output_type": "stream",
     "text": [
      "[0 1 0 0 1 0 1 0 1 0 0 0 1 0 1 1 0 0 1 1 1 0 1 1 1 0 1 0 0 0 0 0 1 1 1 0 1\n",
      " 1 0 0 0 0 0 1 1 0 1 0 1 1 0 0 0 1 0 0 0 0 0 1 0 0 0 1 1 1 1 0 1 1 1 0 1 1\n",
      " 1 1 0 1 0 1 0 1 0 0 0 0 1 1 1 0 1 0 1 0 1 0 1 0 1 0 1 0 0 0 1 0 0 0 0 0 0\n",
      " 1 1 1 1 0 0 1 1 1 1 0 1 0 0 1 0 1 0 0 0 1 1 0 0 0 0 0 1 0 0 1 1 0 0 0 1 0\n",
      " 0 0 1 0 0 1 0 0 1 1 0 1 1 0 1 0 0 1 1 0 1 1 0 0 0 0 0 1 1 1 1 1 0 1 1 0 1\n",
      " 0 1 0 0 0 0 0 0 0 0 0 1 1 0 1 1 0 1 1 0 1 1 0 1 0 0 0 0 1 0 0 1 1 1 0 1 0\n",
      " 1 0 1 1 0 1 0 0 0 1 0 0 1 0 1 0 1 1 1 1 1 0 0 0 1 0 1 1 1 0 1 0 0 0 0 0 1\n",
      " 0 0 0 1 1 0 0 0 0 1 0 1 0 1 1 0 1 0 0 0 0 1 0 1 1 1 0 0 1 0 0 0 1 0 1 0 0\n",
      " 1 0 0 0 0 0 0 0 1 1 1 0 1 1 0 0 0 1 1 1 1 0 0 0 0 0 0 0 1 0 1 1 0 0 1 1 0\n",
      " 1 0 0 0 0 0 0 0 0 0 1 0 1 0 1 0 1 1 0 0 0 1 0 1 0 0 1 0 1 1 0 1 0 0 1 1 0\n",
      " 0 1 0 0 1 1 0 0 0 0 0 0 1 1 0 1 0 0 0 0 1 1 0 0 0 1 0 1 0 0 1 0 1 0 1 0 0\n",
      " 1 1 1 1 1 1 0 1 0 0 0]\n"
     ]
    }
   ],
   "source": [
    "#train final model\n",
    "final_model = GaussianNB(\n",
    "    var_smoothing = 1e-07\n",
    ")\n",
    "\n",
    "final_model.fit(Final_X_features, Y)\n",
    "\n",
    "final_preds = final_model.predict(testX)\n",
    "print(final_preds)"
   ]
  },
  {
   "cell_type": "code",
   "execution_count": 19,
   "id": "d259501c",
   "metadata": {
    "execution": {
     "iopub.execute_input": "2025-05-16T14:50:02.967810Z",
     "iopub.status.busy": "2025-05-16T14:50:02.967437Z",
     "iopub.status.idle": "2025-05-16T14:50:02.980401Z",
     "shell.execute_reply": "2025-05-16T14:50:02.979229Z"
    },
    "papermill": {
     "duration": 0.027566,
     "end_time": "2025-05-16T14:50:02.982409",
     "exception": false,
     "start_time": "2025-05-16T14:50:02.954843",
     "status": "completed"
    },
    "tags": []
   },
   "outputs": [],
   "source": [
    "#generate submission\n",
    "output = pd.DataFrame({'PassengerId': testingData.PassengerId, 'Survived': final_preds})\n",
    "\n",
    "output.to_csv('submission.csv', index = False)"
   ]
  },
  {
   "cell_type": "code",
   "execution_count": 20,
   "id": "ab2afca2",
   "metadata": {
    "execution": {
     "iopub.execute_input": "2025-05-16T14:50:03.012436Z",
     "iopub.status.busy": "2025-05-16T14:50:03.012078Z",
     "iopub.status.idle": "2025-05-16T14:50:03.018076Z",
     "shell.execute_reply": "2025-05-16T14:50:03.016707Z"
    },
    "papermill": {
     "duration": 0.025411,
     "end_time": "2025-05-16T14:50:03.020240",
     "exception": false,
     "start_time": "2025-05-16T14:50:02.994829",
     "status": "completed"
    },
    "tags": []
   },
   "outputs": [],
   "source": [
    "#Try out KNN after removing outliers"
   ]
  },
  {
   "cell_type": "code",
   "execution_count": null,
   "id": "70f850ab",
   "metadata": {
    "papermill": {
     "duration": 0.010803,
     "end_time": "2025-05-16T14:50:03.042493",
     "exception": false,
     "start_time": "2025-05-16T14:50:03.031690",
     "status": "completed"
    },
    "tags": []
   },
   "outputs": [],
   "source": []
  },
  {
   "cell_type": "code",
   "execution_count": null,
   "id": "d626690b",
   "metadata": {
    "papermill": {
     "duration": 0.010847,
     "end_time": "2025-05-16T14:50:03.066443",
     "exception": false,
     "start_time": "2025-05-16T14:50:03.055596",
     "status": "completed"
    },
    "tags": []
   },
   "outputs": [],
   "source": []
  },
  {
   "cell_type": "code",
   "execution_count": null,
   "id": "67e4f265",
   "metadata": {
    "papermill": {
     "duration": 0.01145,
     "end_time": "2025-05-16T14:50:03.090027",
     "exception": false,
     "start_time": "2025-05-16T14:50:03.078577",
     "status": "completed"
    },
    "tags": []
   },
   "outputs": [],
   "source": []
  },
  {
   "cell_type": "code",
   "execution_count": null,
   "id": "a6f0cd91",
   "metadata": {
    "papermill": {
     "duration": 0.011021,
     "end_time": "2025-05-16T14:50:03.113853",
     "exception": false,
     "start_time": "2025-05-16T14:50:03.102832",
     "status": "completed"
    },
    "tags": []
   },
   "outputs": [],
   "source": []
  },
  {
   "cell_type": "code",
   "execution_count": null,
   "id": "5f336fb2",
   "metadata": {
    "papermill": {
     "duration": 0.012816,
     "end_time": "2025-05-16T14:50:03.139263",
     "exception": false,
     "start_time": "2025-05-16T14:50:03.126447",
     "status": "completed"
    },
    "tags": []
   },
   "outputs": [],
   "source": []
  },
  {
   "cell_type": "code",
   "execution_count": null,
   "id": "8b4b70ed",
   "metadata": {
    "papermill": {
     "duration": 0.011552,
     "end_time": "2025-05-16T14:50:03.164047",
     "exception": false,
     "start_time": "2025-05-16T14:50:03.152495",
     "status": "completed"
    },
    "tags": []
   },
   "outputs": [],
   "source": []
  },
  {
   "cell_type": "code",
   "execution_count": null,
   "id": "330eac86",
   "metadata": {
    "papermill": {
     "duration": 0.011851,
     "end_time": "2025-05-16T14:50:03.191074",
     "exception": false,
     "start_time": "2025-05-16T14:50:03.179223",
     "status": "completed"
    },
    "tags": []
   },
   "outputs": [],
   "source": []
  },
  {
   "cell_type": "code",
   "execution_count": null,
   "id": "6e972ddf",
   "metadata": {
    "papermill": {
     "duration": 0.014244,
     "end_time": "2025-05-16T14:50:03.219430",
     "exception": false,
     "start_time": "2025-05-16T14:50:03.205186",
     "status": "completed"
    },
    "tags": []
   },
   "outputs": [],
   "source": []
  },
  {
   "cell_type": "code",
   "execution_count": null,
   "id": "4e23ff72",
   "metadata": {
    "papermill": {
     "duration": 0.011245,
     "end_time": "2025-05-16T14:50:03.242675",
     "exception": false,
     "start_time": "2025-05-16T14:50:03.231430",
     "status": "completed"
    },
    "tags": []
   },
   "outputs": [],
   "source": []
  },
  {
   "cell_type": "code",
   "execution_count": null,
   "id": "3c5a6fc7",
   "metadata": {
    "papermill": {
     "duration": 0.01202,
     "end_time": "2025-05-16T14:50:03.267255",
     "exception": false,
     "start_time": "2025-05-16T14:50:03.255235",
     "status": "completed"
    },
    "tags": []
   },
   "outputs": [],
   "source": []
  },
  {
   "cell_type": "code",
   "execution_count": null,
   "id": "3dbbac83",
   "metadata": {
    "papermill": {
     "duration": 0.010643,
     "end_time": "2025-05-16T14:50:03.288883",
     "exception": false,
     "start_time": "2025-05-16T14:50:03.278240",
     "status": "completed"
    },
    "tags": []
   },
   "outputs": [],
   "source": []
  },
  {
   "cell_type": "code",
   "execution_count": null,
   "id": "dd79eb95",
   "metadata": {
    "papermill": {
     "duration": 0.011037,
     "end_time": "2025-05-16T14:50:03.310689",
     "exception": false,
     "start_time": "2025-05-16T14:50:03.299652",
     "status": "completed"
    },
    "tags": []
   },
   "outputs": [],
   "source": []
  },
  {
   "cell_type": "code",
   "execution_count": null,
   "id": "bc91d7eb",
   "metadata": {
    "papermill": {
     "duration": 0.010523,
     "end_time": "2025-05-16T14:50:03.333754",
     "exception": false,
     "start_time": "2025-05-16T14:50:03.323231",
     "status": "completed"
    },
    "tags": []
   },
   "outputs": [],
   "source": []
  },
  {
   "cell_type": "code",
   "execution_count": null,
   "id": "3827f371",
   "metadata": {
    "papermill": {
     "duration": 0.01034,
     "end_time": "2025-05-16T14:50:03.354852",
     "exception": false,
     "start_time": "2025-05-16T14:50:03.344512",
     "status": "completed"
    },
    "tags": []
   },
   "outputs": [],
   "source": []
  },
  {
   "cell_type": "code",
   "execution_count": null,
   "id": "c8fc0237",
   "metadata": {
    "papermill": {
     "duration": 0.01171,
     "end_time": "2025-05-16T14:50:03.378100",
     "exception": false,
     "start_time": "2025-05-16T14:50:03.366390",
     "status": "completed"
    },
    "tags": []
   },
   "outputs": [],
   "source": []
  },
  {
   "cell_type": "code",
   "execution_count": null,
   "id": "d42d48f0",
   "metadata": {
    "papermill": {
     "duration": 0.015586,
     "end_time": "2025-05-16T14:50:03.408669",
     "exception": false,
     "start_time": "2025-05-16T14:50:03.393083",
     "status": "completed"
    },
    "tags": []
   },
   "outputs": [],
   "source": []
  },
  {
   "cell_type": "code",
   "execution_count": null,
   "id": "a0b8d45e",
   "metadata": {
    "papermill": {
     "duration": 0.015121,
     "end_time": "2025-05-16T14:50:03.438801",
     "exception": false,
     "start_time": "2025-05-16T14:50:03.423680",
     "status": "completed"
    },
    "tags": []
   },
   "outputs": [],
   "source": []
  },
  {
   "cell_type": "code",
   "execution_count": null,
   "id": "3836cf6c",
   "metadata": {
    "papermill": {
     "duration": 0.010694,
     "end_time": "2025-05-16T14:50:03.464605",
     "exception": false,
     "start_time": "2025-05-16T14:50:03.453911",
     "status": "completed"
    },
    "tags": []
   },
   "outputs": [],
   "source": []
  },
  {
   "cell_type": "code",
   "execution_count": null,
   "id": "f88ba0fb",
   "metadata": {
    "papermill": {
     "duration": 0.012363,
     "end_time": "2025-05-16T14:50:03.489673",
     "exception": false,
     "start_time": "2025-05-16T14:50:03.477310",
     "status": "completed"
    },
    "tags": []
   },
   "outputs": [],
   "source": []
  },
  {
   "cell_type": "code",
   "execution_count": null,
   "id": "22901bf6",
   "metadata": {
    "papermill": {
     "duration": 0.011066,
     "end_time": "2025-05-16T14:50:03.511408",
     "exception": false,
     "start_time": "2025-05-16T14:50:03.500342",
     "status": "completed"
    },
    "tags": []
   },
   "outputs": [],
   "source": []
  },
  {
   "cell_type": "code",
   "execution_count": null,
   "id": "3a52c590",
   "metadata": {
    "papermill": {
     "duration": 0.010245,
     "end_time": "2025-05-16T14:50:03.532497",
     "exception": false,
     "start_time": "2025-05-16T14:50:03.522252",
     "status": "completed"
    },
    "tags": []
   },
   "outputs": [],
   "source": []
  },
  {
   "cell_type": "code",
   "execution_count": null,
   "id": "2c3ebd10",
   "metadata": {
    "papermill": {
     "duration": 0.010688,
     "end_time": "2025-05-16T14:50:03.555354",
     "exception": false,
     "start_time": "2025-05-16T14:50:03.544666",
     "status": "completed"
    },
    "tags": []
   },
   "outputs": [],
   "source": []
  },
  {
   "cell_type": "code",
   "execution_count": null,
   "id": "9cb2f222",
   "metadata": {
    "papermill": {
     "duration": 0.010592,
     "end_time": "2025-05-16T14:50:03.576498",
     "exception": false,
     "start_time": "2025-05-16T14:50:03.565906",
     "status": "completed"
    },
    "tags": []
   },
   "outputs": [],
   "source": []
  },
  {
   "cell_type": "code",
   "execution_count": null,
   "id": "daeb7691",
   "metadata": {
    "papermill": {
     "duration": 0.010473,
     "end_time": "2025-05-16T14:50:03.597694",
     "exception": false,
     "start_time": "2025-05-16T14:50:03.587221",
     "status": "completed"
    },
    "tags": []
   },
   "outputs": [],
   "source": []
  },
  {
   "cell_type": "code",
   "execution_count": null,
   "id": "b9d37b16",
   "metadata": {
    "papermill": {
     "duration": 0.01045,
     "end_time": "2025-05-16T14:50:03.619336",
     "exception": false,
     "start_time": "2025-05-16T14:50:03.608886",
     "status": "completed"
    },
    "tags": []
   },
   "outputs": [],
   "source": []
  },
  {
   "cell_type": "code",
   "execution_count": null,
   "id": "ff01fb1d",
   "metadata": {
    "papermill": {
     "duration": 0.010717,
     "end_time": "2025-05-16T14:50:03.642151",
     "exception": false,
     "start_time": "2025-05-16T14:50:03.631434",
     "status": "completed"
    },
    "tags": []
   },
   "outputs": [],
   "source": []
  },
  {
   "cell_type": "code",
   "execution_count": null,
   "id": "205198ef",
   "metadata": {
    "papermill": {
     "duration": 0.010835,
     "end_time": "2025-05-16T14:50:03.663886",
     "exception": false,
     "start_time": "2025-05-16T14:50:03.653051",
     "status": "completed"
    },
    "tags": []
   },
   "outputs": [],
   "source": []
  },
  {
   "cell_type": "code",
   "execution_count": null,
   "id": "9838b410",
   "metadata": {
    "papermill": {
     "duration": 0.010899,
     "end_time": "2025-05-16T14:50:03.686108",
     "exception": false,
     "start_time": "2025-05-16T14:50:03.675209",
     "status": "completed"
    },
    "tags": []
   },
   "outputs": [],
   "source": []
  },
  {
   "cell_type": "code",
   "execution_count": null,
   "id": "f9f7c208",
   "metadata": {
    "papermill": {
     "duration": 0.011249,
     "end_time": "2025-05-16T14:50:03.709176",
     "exception": false,
     "start_time": "2025-05-16T14:50:03.697927",
     "status": "completed"
    },
    "tags": []
   },
   "outputs": [],
   "source": []
  },
  {
   "cell_type": "code",
   "execution_count": null,
   "id": "dc0b5292",
   "metadata": {
    "papermill": {
     "duration": 0.01108,
     "end_time": "2025-05-16T14:50:03.730961",
     "exception": false,
     "start_time": "2025-05-16T14:50:03.719881",
     "status": "completed"
    },
    "tags": []
   },
   "outputs": [],
   "source": []
  },
  {
   "cell_type": "code",
   "execution_count": null,
   "id": "d6f0d8f0",
   "metadata": {
    "papermill": {
     "duration": 0.011507,
     "end_time": "2025-05-16T14:50:03.753924",
     "exception": false,
     "start_time": "2025-05-16T14:50:03.742417",
     "status": "completed"
    },
    "tags": []
   },
   "outputs": [],
   "source": []
  },
  {
   "cell_type": "code",
   "execution_count": null,
   "id": "7f4bd379",
   "metadata": {
    "papermill": {
     "duration": 0.010534,
     "end_time": "2025-05-16T14:50:03.775717",
     "exception": false,
     "start_time": "2025-05-16T14:50:03.765183",
     "status": "completed"
    },
    "tags": []
   },
   "outputs": [],
   "source": []
  },
  {
   "cell_type": "code",
   "execution_count": null,
   "id": "2e1b3e1b",
   "metadata": {
    "papermill": {
     "duration": 0.011317,
     "end_time": "2025-05-16T14:50:03.798233",
     "exception": false,
     "start_time": "2025-05-16T14:50:03.786916",
     "status": "completed"
    },
    "tags": []
   },
   "outputs": [],
   "source": []
  }
 ],
 "metadata": {
  "kaggle": {
   "accelerator": "none",
   "dataSources": [
    {
     "databundleVersionId": 26502,
     "sourceId": 3136,
     "sourceType": "competition"
    }
   ],
   "dockerImageVersionId": 31012,
   "isGpuEnabled": false,
   "isInternetEnabled": false,
   "language": "python",
   "sourceType": "notebook"
  },
  "kernelspec": {
   "display_name": "Python 3",
   "language": "python",
   "name": "python3"
  },
  "language_info": {
   "codemirror_mode": {
    "name": "ipython",
    "version": 3
   },
   "file_extension": ".py",
   "mimetype": "text/x-python",
   "name": "python",
   "nbconvert_exporter": "python",
   "pygments_lexer": "ipython3",
   "version": "3.11.11"
  },
  "papermill": {
   "default_parameters": {},
   "duration": 14.973087,
   "end_time": "2025-05-16T14:50:04.630826",
   "environment_variables": {},
   "exception": null,
   "input_path": "__notebook__.ipynb",
   "output_path": "__notebook__.ipynb",
   "parameters": {},
   "start_time": "2025-05-16T14:49:49.657739",
   "version": "2.6.0"
  }
 },
 "nbformat": 4,
 "nbformat_minor": 5
}
